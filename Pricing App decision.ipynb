{
 "cells": [
  {
   "cell_type": "markdown",
   "metadata": {},
   "source": [
    "## APP PRICING"
   ]
  },
  {
   "cell_type": "markdown",
   "metadata": {},
   "source": [
    "In this project we work with data relationated to apps sold in APP Store. \n",
    "\n",
    "To set a price is one of the most important aspect of marketing mix. Thanks to data processing and the algorithms of machine learning we can go further in this important field and set a reference price with the competition (one pricing modality) \n",
    "\n",
    "It is a googd exercise for improving data science skills, due to the several aspect that have to be treated. We will go trhough EDA (Exploratory Data Analysis), preproceesing of the Data (imbalance data, scaling, PCA..) and used of Pipelines.\n",
    "\n",
    "I saw the necesity to split the project in two differents models:\n",
    "\n",
    "1) One model to clasify is we have to set a price or set it free: **CLASSIFICATION**\n",
    "\n",
    "2) Other model to calculate the best price due to the data: **REGRESSION**"
   ]
  },
  {
   "cell_type": "code",
   "execution_count": 2,
   "metadata": {},
   "outputs": [],
   "source": [
    "# import necessary package\n",
    "import pandas as pd\n",
    "import numpy as np\n",
    "import matplotlib.pyplot as plt\n",
    "import seaborn as sns\n",
    "import os\n",
    "\n",
    "from datetime import datetime, date\n",
    "\n",
    "import warnings\n",
    "warnings.filterwarnings('ignore')"
   ]
  },
  {
   "cell_type": "code",
   "execution_count": 3,
   "metadata": {},
   "outputs": [
    {
     "data": {
      "text/plain": [
       "'C:\\\\Users\\\\igart\\\\Desktop\\\\PROYECTO 2\\\\PROYECTO APP STORE'"
      ]
     },
     "execution_count": 3,
     "metadata": {},
     "output_type": "execute_result"
    }
   ],
   "source": [
    "path = os.getcwd()\n",
    "path"
   ]
  },
  {
   "cell_type": "code",
   "execution_count": 4,
   "metadata": {},
   "outputs": [
    {
     "name": "stdout",
     "output_type": "stream",
     "text": [
      "['.ipynb_checkpoints', 'final_model', 'googleplaystore.csv', 'googleplaystore_user_reviews.csv', 'license.txt', 'matriz-confusion-sencilla.JPG', 'PRICING DECISION APP.ipynb']\n"
     ]
    }
   ],
   "source": [
    "print(os.listdir(path))\n",
    "#os.mkdir(path=\"final_model\")"
   ]
  },
  {
   "cell_type": "code",
   "execution_count": 5,
   "metadata": {
    "scrolled": true
   },
   "outputs": [
    {
     "data": {
      "text/html": [
       "<div>\n",
       "<style scoped>\n",
       "    .dataframe tbody tr th:only-of-type {\n",
       "        vertical-align: middle;\n",
       "    }\n",
       "\n",
       "    .dataframe tbody tr th {\n",
       "        vertical-align: top;\n",
       "    }\n",
       "\n",
       "    .dataframe thead th {\n",
       "        text-align: right;\n",
       "    }\n",
       "</style>\n",
       "<table border=\"1\" class=\"dataframe\">\n",
       "  <thead>\n",
       "    <tr style=\"text-align: right;\">\n",
       "      <th></th>\n",
       "      <th>App</th>\n",
       "      <th>Category</th>\n",
       "      <th>Rating</th>\n",
       "      <th>Reviews</th>\n",
       "      <th>Size</th>\n",
       "      <th>Installs</th>\n",
       "      <th>Type</th>\n",
       "      <th>Price</th>\n",
       "      <th>Content Rating</th>\n",
       "      <th>Genres</th>\n",
       "      <th>Last Updated</th>\n",
       "      <th>Current Ver</th>\n",
       "      <th>Android Ver</th>\n",
       "    </tr>\n",
       "  </thead>\n",
       "  <tbody>\n",
       "    <tr>\n",
       "      <th>0</th>\n",
       "      <td>Photo Editor &amp; Candy Camera &amp; Grid &amp; ScrapBook</td>\n",
       "      <td>ART_AND_DESIGN</td>\n",
       "      <td>4.1</td>\n",
       "      <td>159</td>\n",
       "      <td>19M</td>\n",
       "      <td>10,000+</td>\n",
       "      <td>Free</td>\n",
       "      <td>0</td>\n",
       "      <td>Everyone</td>\n",
       "      <td>Art &amp; Design</td>\n",
       "      <td>January 7, 2018</td>\n",
       "      <td>1.0.0</td>\n",
       "      <td>4.0.3 and up</td>\n",
       "    </tr>\n",
       "    <tr>\n",
       "      <th>1</th>\n",
       "      <td>Coloring book moana</td>\n",
       "      <td>ART_AND_DESIGN</td>\n",
       "      <td>3.9</td>\n",
       "      <td>967</td>\n",
       "      <td>14M</td>\n",
       "      <td>500,000+</td>\n",
       "      <td>Free</td>\n",
       "      <td>0</td>\n",
       "      <td>Everyone</td>\n",
       "      <td>Art &amp; Design;Pretend Play</td>\n",
       "      <td>January 15, 2018</td>\n",
       "      <td>2.0.0</td>\n",
       "      <td>4.0.3 and up</td>\n",
       "    </tr>\n",
       "    <tr>\n",
       "      <th>2</th>\n",
       "      <td>U Launcher Lite – FREE Live Cool Themes, Hide ...</td>\n",
       "      <td>ART_AND_DESIGN</td>\n",
       "      <td>4.7</td>\n",
       "      <td>87510</td>\n",
       "      <td>8.7M</td>\n",
       "      <td>5,000,000+</td>\n",
       "      <td>Free</td>\n",
       "      <td>0</td>\n",
       "      <td>Everyone</td>\n",
       "      <td>Art &amp; Design</td>\n",
       "      <td>August 1, 2018</td>\n",
       "      <td>1.2.4</td>\n",
       "      <td>4.0.3 and up</td>\n",
       "    </tr>\n",
       "    <tr>\n",
       "      <th>3</th>\n",
       "      <td>Sketch - Draw &amp; Paint</td>\n",
       "      <td>ART_AND_DESIGN</td>\n",
       "      <td>4.5</td>\n",
       "      <td>215644</td>\n",
       "      <td>25M</td>\n",
       "      <td>50,000,000+</td>\n",
       "      <td>Free</td>\n",
       "      <td>0</td>\n",
       "      <td>Teen</td>\n",
       "      <td>Art &amp; Design</td>\n",
       "      <td>June 8, 2018</td>\n",
       "      <td>Varies with device</td>\n",
       "      <td>4.2 and up</td>\n",
       "    </tr>\n",
       "    <tr>\n",
       "      <th>4</th>\n",
       "      <td>Pixel Draw - Number Art Coloring Book</td>\n",
       "      <td>ART_AND_DESIGN</td>\n",
       "      <td>4.3</td>\n",
       "      <td>967</td>\n",
       "      <td>2.8M</td>\n",
       "      <td>100,000+</td>\n",
       "      <td>Free</td>\n",
       "      <td>0</td>\n",
       "      <td>Everyone</td>\n",
       "      <td>Art &amp; Design;Creativity</td>\n",
       "      <td>June 20, 2018</td>\n",
       "      <td>1.1</td>\n",
       "      <td>4.4 and up</td>\n",
       "    </tr>\n",
       "  </tbody>\n",
       "</table>\n",
       "</div>"
      ],
      "text/plain": [
       "                                                 App        Category  Rating  \\\n",
       "0     Photo Editor & Candy Camera & Grid & ScrapBook  ART_AND_DESIGN     4.1   \n",
       "1                                Coloring book moana  ART_AND_DESIGN     3.9   \n",
       "2  U Launcher Lite – FREE Live Cool Themes, Hide ...  ART_AND_DESIGN     4.7   \n",
       "3                              Sketch - Draw & Paint  ART_AND_DESIGN     4.5   \n",
       "4              Pixel Draw - Number Art Coloring Book  ART_AND_DESIGN     4.3   \n",
       "\n",
       "  Reviews  Size     Installs  Type Price Content Rating  \\\n",
       "0     159   19M      10,000+  Free     0       Everyone   \n",
       "1     967   14M     500,000+  Free     0       Everyone   \n",
       "2   87510  8.7M   5,000,000+  Free     0       Everyone   \n",
       "3  215644   25M  50,000,000+  Free     0           Teen   \n",
       "4     967  2.8M     100,000+  Free     0       Everyone   \n",
       "\n",
       "                      Genres      Last Updated         Current Ver  \\\n",
       "0               Art & Design   January 7, 2018               1.0.0   \n",
       "1  Art & Design;Pretend Play  January 15, 2018               2.0.0   \n",
       "2               Art & Design    August 1, 2018               1.2.4   \n",
       "3               Art & Design      June 8, 2018  Varies with device   \n",
       "4    Art & Design;Creativity     June 20, 2018                 1.1   \n",
       "\n",
       "    Android Ver  \n",
       "0  4.0.3 and up  \n",
       "1  4.0.3 and up  \n",
       "2  4.0.3 and up  \n",
       "3    4.2 and up  \n",
       "4    4.4 and up  "
      ]
     },
     "execution_count": 5,
     "metadata": {},
     "output_type": "execute_result"
    }
   ],
   "source": [
    "#import the data\n",
    "df = pd.read_csv(\"googleplaystore.csv\")\n",
    "df.head()"
   ]
  },
  {
   "cell_type": "markdown",
   "metadata": {},
   "source": [
    "**Feature Explanation**\n",
    "\n",
    "App :- Name of the App\n",
    "\n",
    "Category :- Category under which the App falls.\n",
    "\n",
    "Rating :- Application's rating on playstore\n",
    "\n",
    "Reviews :- Number of reviews of the App.\n",
    "\n",
    "Size :- Size of the App.\n",
    "\n",
    "Install :- Number of Installs of the App\n",
    "\n",
    "Type :- If the App is free/paid\n",
    "\n",
    "Price :- Price of the app (0 if it is Free)\n",
    "\n",
    "Content Rating :- Appropiate Target Audience of the App.\n",
    "\n",
    "Genres:- Genre under which the App falls.\n",
    "\n",
    "Last Updated :- Date when the App was last updated\n",
    "\n",
    "Current Ver :- Current Version of the Application\n",
    "\n",
    "Android Ver :- Minimum Android Version required to run the App"
   ]
  },
  {
   "cell_type": "code",
   "execution_count": 6,
   "metadata": {},
   "outputs": [
    {
     "name": "stdout",
     "output_type": "stream",
     "text": [
      "<class 'pandas.core.frame.DataFrame'>\n",
      "RangeIndex: 10841 entries, 0 to 10840\n",
      "Data columns (total 13 columns):\n",
      "App               10841 non-null object\n",
      "Category          10841 non-null object\n",
      "Rating            9367 non-null float64\n",
      "Reviews           10841 non-null object\n",
      "Size              10841 non-null object\n",
      "Installs          10841 non-null object\n",
      "Type              10840 non-null object\n",
      "Price             10841 non-null object\n",
      "Content Rating    10840 non-null object\n",
      "Genres            10841 non-null object\n",
      "Last Updated      10841 non-null object\n",
      "Current Ver       10833 non-null object\n",
      "Android Ver       10838 non-null object\n",
      "dtypes: float64(1), object(12)\n",
      "memory usage: 1.1+ MB\n"
     ]
    }
   ],
   "source": [
    "df.info()"
   ]
  },
  {
   "cell_type": "markdown",
   "metadata": {},
   "source": [
    "As we can see there are 13 columns with only one type float (numeric). We can also realize which of these features will not need for our purpose and estimate which of them could have null values"
   ]
  },
  {
   "cell_type": "markdown",
   "metadata": {},
   "source": [
    "## FEATURE ENGINEERING"
   ]
  },
  {
   "cell_type": "code",
   "execution_count": 7,
   "metadata": {},
   "outputs": [],
   "source": [
    "# I make a helpful function to understand the feature\n",
    "def fastview(serie, df=df):\n",
    "    \n",
    "        isna = \"the feature has %d nan values\" % (serie.isna().sum())\n",
    "        isnull = \"the feature has %d null values\" % (serie.isnull().sum())\n",
    "        types =  \"the feature has the type of %s\" % (serie.dtype)\n",
    "        count =  serie.value_counts().head(10)\n",
    "        \n",
    "        if serie.dtype==\"object\":\n",
    "            uniques = \"the feature has %d unique values and the dataframe has %s rows\" % (serie.unique().size, len(df))\n",
    "            print(uniques)\n",
    "            if serie.unique().size < 25:\n",
    "                print(serie.value_counts().plot(kind=\"pie\"))\n",
    "        \n",
    "        return isna, isnull, types,  count                           "
   ]
  },
  {
   "cell_type": "markdown",
   "metadata": {},
   "source": [
    "**FEATURES**"
   ]
  },
  {
   "cell_type": "markdown",
   "metadata": {},
   "source": [
    "TYPE: my target feature"
   ]
  },
  {
   "cell_type": "code",
   "execution_count": 9,
   "metadata": {},
   "outputs": [
    {
     "name": "stdout",
     "output_type": "stream",
     "text": [
      "the feature has 4 unique values and the dataframe has 10841 rows\n",
      "AxesSubplot(0.125,0.125;0.775x0.755)\n"
     ]
    },
    {
     "data": {
      "text/plain": [
       "('the feature has 1 nan values',\n",
       " 'the feature has 1 null values',\n",
       " 'the feature has the type of object',\n",
       " Free    10039\n",
       " Paid      800\n",
       " 0           1\n",
       " Name: Type, dtype: int64)"
      ]
     },
     "execution_count": 9,
     "metadata": {},
     "output_type": "execute_result"
    },
    {
     "data": {
      "image/png": "[encoded data removed]",
      "text/plain": [
       "<Figure size 432x288 with 1 Axes>"
      ]
     },
     "metadata": {},
     "output_type": "display_data"
    }
   ],
   "source": [
    "fastview(df.Type)"
   ]
  },
  {
   "cell_type": "code",
   "execution_count": 10,
   "metadata": {},
   "outputs": [
    {
     "data": {
      "text/html": [
       "<div>\n",
       "<style scoped>\n",
       "    .dataframe tbody tr th:only-of-type {\n",
       "        vertical-align: middle;\n",
       "    }\n",
       "\n",
       "    .dataframe tbody tr th {\n",
       "        vertical-align: top;\n",
       "    }\n",
       "\n",
       "    .dataframe thead th {\n",
       "        text-align: right;\n",
       "    }\n",
       "</style>\n",
       "<table border=\"1\" class=\"dataframe\">\n",
       "  <thead>\n",
       "    <tr style=\"text-align: right;\">\n",
       "      <th></th>\n",
       "      <th>App</th>\n",
       "      <th>Category</th>\n",
       "      <th>Rating</th>\n",
       "      <th>Reviews</th>\n",
       "      <th>Size</th>\n",
       "      <th>Installs</th>\n",
       "      <th>Type</th>\n",
       "      <th>Price</th>\n",
       "      <th>Content Rating</th>\n",
       "      <th>Genres</th>\n",
       "      <th>Last Updated</th>\n",
       "      <th>Current Ver</th>\n",
       "      <th>Android Ver</th>\n",
       "    </tr>\n",
       "  </thead>\n",
       "  <tbody>\n",
       "    <tr>\n",
       "      <th>10472</th>\n",
       "      <td>Life Made WI-Fi Touchscreen Photo Frame</td>\n",
       "      <td>1.9</td>\n",
       "      <td>19.0</td>\n",
       "      <td>3.0M</td>\n",
       "      <td>1,000+</td>\n",
       "      <td>Free</td>\n",
       "      <td>0</td>\n",
       "      <td>Everyone</td>\n",
       "      <td>NaN</td>\n",
       "      <td>February 11, 2018</td>\n",
       "      <td>1.0.19</td>\n",
       "      <td>4.0 and up</td>\n",
       "      <td>NaN</td>\n",
       "    </tr>\n",
       "  </tbody>\n",
       "</table>\n",
       "</div>"
      ],
      "text/plain": [
       "                                           App Category  Rating Reviews  \\\n",
       "10472  Life Made WI-Fi Touchscreen Photo Frame      1.9    19.0    3.0M   \n",
       "\n",
       "         Size Installs Type     Price Content Rating             Genres  \\\n",
       "10472  1,000+     Free    0  Everyone            NaN  February 11, 2018   \n",
       "\n",
       "      Last Updated Current Ver Android Ver  \n",
       "10472       1.0.19  4.0 and up         NaN  "
      ]
     },
     "execution_count": 10,
     "metadata": {},
     "output_type": "execute_result"
    }
   ],
   "source": [
    "df[df.Type==\"0\"] # error data"
   ]
  },
  {
   "cell_type": "code",
   "execution_count": 11,
   "metadata": {},
   "outputs": [],
   "source": [
    "df = df[df.Type!=\"0\"] # not sense data\n",
    "df = df[ ~ df.Type.isna()] # unnecesary data"
   ]
  },
  {
   "cell_type": "code",
   "execution_count": 12,
   "metadata": {
    "collapsed": true
   },
   "outputs": [
    {
     "name": "stdout",
     "output_type": "stream",
     "text": [
      "the feature has 2 unique values and the dataframe has 10841 rows\n",
      "AxesSubplot(0.125,0.125;0.775x0.755)\n"
     ]
    },
    {
     "data": {
      "text/plain": [
       "('the feature has 0 nan values',\n",
       " 'the feature has 0 null values',\n",
       " 'the feature has the type of object',\n",
       " Free    10039\n",
       " Paid      800\n",
       " Name: Type, dtype: int64)"
      ]
     },
     "execution_count": 12,
     "metadata": {},
     "output_type": "execute_result"
    },
    {
     "data": {
      "image/png": "[encoded data removed]",
      "text/plain": [
       "<Figure size 432x288 with 1 Axes>"
      ]
     },
     "metadata": {},
     "output_type": "display_data"
    }
   ],
   "source": [
    "fastview(df.Type)"
   ]
  },
  {
   "cell_type": "markdown",
   "metadata": {},
   "source": [
    "APP"
   ]
  },
  {
   "cell_type": "code",
   "execution_count": 13,
   "metadata": {
    "scrolled": true
   },
   "outputs": [
    {
     "name": "stdout",
     "output_type": "stream",
     "text": [
      "the feature has 9658 unique values and the dataframe has 10841 rows\n"
     ]
    },
    {
     "data": {
      "text/plain": [
       "('the feature has 0 nan values',\n",
       " 'the feature has 0 null values',\n",
       " 'the feature has the type of object',\n",
       " ROBLOX                                                9\n",
       " CBS Sports App - Scores, News, Stats & Watch Live     8\n",
       " 8 Ball Pool                                           7\n",
       " Candy Crush Saga                                      7\n",
       " ESPN                                                  7\n",
       " Duolingo: Learn Languages Free                        7\n",
       " Subway Surfers                                        6\n",
       " Sniper 3D Gun Shooter: Free Shooting Games - FPS      6\n",
       " Bleacher Report: sports news, scores, & highlights    6\n",
       " Zombie Catchers                                       6\n",
       " Name: App, dtype: int64)"
      ]
     },
     "execution_count": 13,
     "metadata": {},
     "output_type": "execute_result"
    }
   ],
   "source": [
    "fastview(df.App)"
   ]
  },
  {
   "cell_type": "code",
   "execution_count": 16,
   "metadata": {},
   "outputs": [
    {
     "data": {
      "text/html": [
       "<div>\n",
       "<style scoped>\n",
       "    .dataframe tbody tr th:only-of-type {\n",
       "        vertical-align: middle;\n",
       "    }\n",
       "\n",
       "    .dataframe tbody tr th {\n",
       "        vertical-align: top;\n",
       "    }\n",
       "\n",
       "    .dataframe thead th {\n",
       "        text-align: right;\n",
       "    }\n",
       "</style>\n",
       "<table border=\"1\" class=\"dataframe\">\n",
       "  <thead>\n",
       "    <tr style=\"text-align: right;\">\n",
       "      <th></th>\n",
       "      <th>App</th>\n",
       "      <th>Category</th>\n",
       "      <th>Rating</th>\n",
       "      <th>Reviews</th>\n",
       "      <th>Size</th>\n",
       "      <th>Installs</th>\n",
       "      <th>Type</th>\n",
       "      <th>Price</th>\n",
       "      <th>Content Rating</th>\n",
       "      <th>Genres</th>\n",
       "      <th>Last Updated</th>\n",
       "      <th>Current Ver</th>\n",
       "      <th>Android Ver</th>\n",
       "    </tr>\n",
       "  </thead>\n",
       "  <tbody>\n",
       "    <tr>\n",
       "      <th>1653</th>\n",
       "      <td>ROBLOX</td>\n",
       "      <td>GAME</td>\n",
       "      <td>4.5</td>\n",
       "      <td>4447388</td>\n",
       "      <td>67M</td>\n",
       "      <td>100,000,000+</td>\n",
       "      <td>Free</td>\n",
       "      <td>0</td>\n",
       "      <td>Everyone 10+</td>\n",
       "      <td>Adventure;Action &amp; Adventure</td>\n",
       "      <td>July 31, 2018</td>\n",
       "      <td>2.347.225742</td>\n",
       "      <td>4.1 and up</td>\n",
       "    </tr>\n",
       "  </tbody>\n",
       "</table>\n",
       "</div>"
      ],
      "text/plain": [
       "         App Category  Rating  Reviews Size      Installs  Type Price  \\\n",
       "1653  ROBLOX     GAME     4.5  4447388  67M  100,000,000+  Free     0   \n",
       "\n",
       "     Content Rating                        Genres   Last Updated  \\\n",
       "1653   Everyone 10+  Adventure;Action & Adventure  July 31, 2018   \n",
       "\n",
       "       Current Ver Android Ver  \n",
       "1653  2.347.225742  4.1 and up  "
      ]
     },
     "execution_count": 16,
     "metadata": {},
     "output_type": "execute_result"
    }
   ],
   "source": [
    "df[df.App==\"ROBLOX\"].head() # duplicates: unnecessary data"
   ]
  },
  {
   "cell_type": "code",
   "execution_count": 17,
   "metadata": {},
   "outputs": [],
   "source": [
    "# we need to drop duplicate apps to take the usefullness information\n",
    "df.drop_duplicates(subset=\"App\",inplace=True)"
   ]
  },
  {
   "cell_type": "code",
   "execution_count": 18,
   "metadata": {},
   "outputs": [
    {
     "name": "stdout",
     "output_type": "stream",
     "text": [
      "the feature has 9658 unique values and the dataframe has 9658 rows\n"
     ]
    },
    {
     "data": {
      "text/plain": [
       "('the feature has 0 nan values',\n",
       " 'the feature has 0 null values',\n",
       " 'the feature has the type of object',\n",
       " Samsung Notes                                       1\n",
       " Listen to the story~The Story of the Fairy Tales    1\n",
       " English words application mikan                     1\n",
       " HD Video Player (wmv,avi,mp4,flv,av,mpg,mkv)2017    1\n",
       " CSCS BG (в български)                               1\n",
       " High Blood Pressure                                 1\n",
       " Caviar - Food Delivery                              1\n",
       " FHR 5-Tier 2.0                                      1\n",
       " Control Center iOS 11 - Phone X Control Panel       1\n",
       " Lock 'n' Roll Pro - Ad Free                         1\n",
       " Name: App, dtype: int64)"
      ]
     },
     "execution_count": 18,
     "metadata": {},
     "output_type": "execute_result"
    }
   ],
   "source": [
    "fastview(df.App,df)"
   ]
  },
  {
   "cell_type": "markdown",
   "metadata": {},
   "source": [
    "CATEGORY"
   ]
  },
  {
   "cell_type": "code",
   "execution_count": 19,
   "metadata": {},
   "outputs": [
    {
     "name": "stdout",
     "output_type": "stream",
     "text": [
      "the feature has 33 unique values and the dataframe has 9658 rows\n"
     ]
    },
    {
     "data": {
      "text/plain": [
       "('the feature has 0 nan values',\n",
       " 'the feature has 0 null values',\n",
       " 'the feature has the type of object',\n",
       " FAMILY             1831\n",
       " GAME                959\n",
       " TOOLS               827\n",
       " BUSINESS            420\n",
       " MEDICAL             395\n",
       " PERSONALIZATION     376\n",
       " PRODUCTIVITY        374\n",
       " LIFESTYLE           369\n",
       " FINANCE             345\n",
       " SPORTS              325\n",
       " Name: Category, dtype: int64)"
      ]
     },
     "execution_count": 19,
     "metadata": {},
     "output_type": "execute_result"
    }
   ],
   "source": [
    "fastview(df.Category,df)"
   ]
  },
  {
   "cell_type": "markdown",
   "metadata": {},
   "source": [
    "RATING"
   ]
  },
  {
   "cell_type": "code",
   "execution_count": 20,
   "metadata": {
    "scrolled": true
   },
   "outputs": [
    {
     "data": {
      "text/plain": [
       "('the feature has 1462 nan values',\n",
       " 'the feature has 1462 null values',\n",
       " 'the feature has the type of float64',\n",
       " 4.3    897\n",
       " 4.4    895\n",
       " 4.5    848\n",
       " 4.2    810\n",
       " 4.6    683\n",
       " 4.1    621\n",
       " 4.0    513\n",
       " 4.7    442\n",
       " 3.9    359\n",
       " 3.8    286\n",
       " Name: Rating, dtype: int64)"
      ]
     },
     "execution_count": 20,
     "metadata": {},
     "output_type": "execute_result"
    }
   ],
   "source": [
    "fastview(df.Rating)"
   ]
  },
  {
   "cell_type": "code",
   "execution_count": 21,
   "metadata": {},
   "outputs": [
    {
     "data": {
      "text/plain": [
       "8196"
      ]
     },
     "execution_count": 21,
     "metadata": {},
     "output_type": "execute_result"
    }
   ],
   "source": [
    "df.Rating.value_counts().sum()"
   ]
  },
  {
   "cell_type": "code",
   "execution_count": 22,
   "metadata": {
    "scrolled": true
   },
   "outputs": [
    {
     "data": {
      "text/plain": [
       "array([4.1, 3.9, 4.7, ..., nan, 4.5, 4.5])"
      ]
     },
     "execution_count": 22,
     "metadata": {},
     "output_type": "execute_result"
    }
   ],
   "source": [
    " df.Rating.values"
   ]
  },
  {
   "cell_type": "code",
   "execution_count": 23,
   "metadata": {},
   "outputs": [
    {
     "data": {
      "text/plain": [
       "1462"
      ]
     },
     "execution_count": 23,
     "metadata": {},
     "output_type": "execute_result"
    }
   ],
   "source": [
    "df.Rating.isna().sum()"
   ]
  },
  {
   "cell_type": "code",
   "execution_count": 24,
   "metadata": {},
   "outputs": [
    {
     "data": {
      "text/plain": [
       "1"
      ]
     },
     "execution_count": 24,
     "metadata": {},
     "output_type": "execute_result"
    }
   ],
   "source": [
    "df.Rating.isnull().any().sum()"
   ]
  },
  {
   "cell_type": "code",
   "execution_count": 25,
   "metadata": {},
   "outputs": [
    {
     "name": "stdout",
     "output_type": "stream",
     "text": [
      "the data have 9658 rows and only 8196 ratings confirmed\n"
     ]
    }
   ],
   "source": [
    "print(\"the data have %d rows and only %d ratings confirmed\" % (len(df),int(df.Rating.value_counts().sum())))"
   ]
  },
  {
   "cell_type": "code",
   "execution_count": 26,
   "metadata": {},
   "outputs": [
    {
     "data": {
      "text/plain": [
       "40"
      ]
     },
     "execution_count": 26,
     "metadata": {},
     "output_type": "execute_result"
    }
   ],
   "source": [
    "df.Rating.unique().size"
   ]
  },
  {
   "cell_type": "code",
   "execution_count": 27,
   "metadata": {},
   "outputs": [
    {
     "data": {
      "text/plain": [
       "25%    4.0\n",
       "50%    4.3\n",
       "75%    4.5\n",
       "max    5.0\n",
       "Name: Rating, dtype: float64"
      ]
     },
     "execution_count": 27,
     "metadata": {},
     "output_type": "execute_result"
    }
   ],
   "source": [
    "df.Rating.describe()[4:8] #extract quatiles"
   ]
  },
  {
   "cell_type": "code",
   "execution_count": 28,
   "metadata": {},
   "outputs": [
    {
     "name": "stdout",
     "output_type": "stream",
     "text": [
      "Raitings column contains  0  Nan values.\n"
     ]
    }
   ],
   "source": [
    "df.Rating = df.Rating.fillna(df.Rating.describe()[4:8].mean()) # fill with the mean of the quatiles\n",
    "print(\"Raitings column contains \",df.Rating.isna().any().sum(),\" Nan values.\")"
   ]
  },
  {
   "cell_type": "markdown",
   "metadata": {},
   "source": [
    "REVIEWS"
   ]
  },
  {
   "cell_type": "code",
   "execution_count": 29,
   "metadata": {},
   "outputs": [
    {
     "name": "stdout",
     "output_type": "stream",
     "text": [
      "the feature has 5330 unique values and the dataframe has 10841 rows\n"
     ]
    },
    {
     "data": {
      "text/plain": [
       "('the feature has 0 nan values',\n",
       " 'the feature has 0 null values',\n",
       " 'the feature has the type of object',\n",
       " 0    592\n",
       " 1    272\n",
       " 2    213\n",
       " 3    170\n",
       " 4    137\n",
       " 5    108\n",
       " 6     94\n",
       " 7     88\n",
       " 8     72\n",
       " 9     64\n",
       " Name: Reviews, dtype: int64)"
      ]
     },
     "execution_count": 29,
     "metadata": {},
     "output_type": "execute_result"
    }
   ],
   "source": [
    "fastview(df.Reviews)"
   ]
  },
  {
   "cell_type": "code",
   "execution_count": 30,
   "metadata": {},
   "outputs": [
    {
     "name": "stdout",
     "output_type": "stream",
     "text": [
      "Reviews column contains  9658  str.numeric values and the lenght of the dataset is 9658\n"
     ]
    }
   ],
   "source": [
    "print(\"Reviews column contains \",df.Reviews.str.isnumeric().sum(),\" str.numeric values and the lenght of the dataset is\",len(df))"
   ]
  },
  {
   "cell_type": "code",
   "execution_count": 31,
   "metadata": {},
   "outputs": [],
   "source": [
    "df.Reviews = df.Reviews.astype(int) #change to numeric (int)"
   ]
  },
  {
   "cell_type": "markdown",
   "metadata": {},
   "source": [
    "SIZE"
   ]
  },
  {
   "cell_type": "code",
   "execution_count": 32,
   "metadata": {},
   "outputs": [
    {
     "name": "stdout",
     "output_type": "stream",
     "text": [
      "the feature has 461 unique values and the dataframe has 10841 rows\n"
     ]
    },
    {
     "data": {
      "text/plain": [
       "('the feature has 0 nan values',\n",
       " 'the feature has 0 null values',\n",
       " 'the feature has the type of object',\n",
       " Varies with device    1226\n",
       " 11M                    182\n",
       " 12M                    181\n",
       " 13M                    177\n",
       " 14M                    177\n",
       " 15M                    163\n",
       " 17M                    146\n",
       " 26M                    142\n",
       " 16M                    137\n",
       " 19M                    130\n",
       " Name: Size, dtype: int64)"
      ]
     },
     "execution_count": 32,
     "metadata": {},
     "output_type": "execute_result"
    }
   ],
   "source": [
    "fastview(df.Size)"
   ]
  },
  {
   "cell_type": "code",
   "execution_count": 33,
   "metadata": {
    "scrolled": true
   },
   "outputs": [
    {
     "data": {
      "text/plain": [
       "Varies with device    1226\n",
       "11M                    182\n",
       "12M                    181\n",
       "13M                    177\n",
       "14M                    177\n",
       "15M                    163\n",
       "17M                    146\n",
       "26M                    142\n",
       "16M                    137\n",
       "19M                    130\n",
       "Name: Size, dtype: int64"
      ]
     },
     "execution_count": 33,
     "metadata": {},
     "output_type": "execute_result"
    }
   ],
   "source": [
    "df.Size.value_counts().head(10)"
   ]
  },
  {
   "cell_type": "code",
   "execution_count": 34,
   "metadata": {},
   "outputs": [
    {
     "name": "stdout",
     "output_type": "stream",
     "text": [
      "The size feature have the next termination strings: ['M' 'e' 'k']\n"
     ]
    }
   ],
   "source": [
    "values = np.array([],dtype=str)\n",
    "\n",
    "for i in df.Size:\n",
    "    if i[-1] not in values:\n",
    "        values = np.append(values,i[-1])\n",
    "print(\"The size feature have the next termination strings: %s\" % (values)) \n",
    "    "
   ]
  },
  {
   "cell_type": "code",
   "execution_count": 35,
   "metadata": {},
   "outputs": [
    {
     "name": "stdout",
     "output_type": "stream",
     "text": [
      "relation percentage inexistance of Size over total dataset:12\n"
     ]
    }
   ],
   "source": [
    "# As long as size is a feature that we can intrinsectly consider important for princing\n",
    "#I will see the necesity of eliminate the nan data \n",
    "x = [i for i in df.Size if i==\"Varies with device\"]\n",
    "print(\"relation percentage inexistance of Size over total dataset:%d\" % ((len(x)/len(df))*100))\n",
    "#As we see it is too much to eliminate, morover when we have not so much data with price so I will consider fill the nan"
   ]
  },
  {
   "cell_type": "code",
   "execution_count": 36,
   "metadata": {},
   "outputs": [],
   "source": [
    "def convert_size(value):\n",
    "    \n",
    "    if value[-1]==\"M\":\n",
    "        value = float(value.replace('M',''))\n",
    "        value = value*1000000\n",
    "    elif value[-1] == [\"k\"]:\n",
    "        value = float(value.replace('k',''))\n",
    "        value = value*1000\n",
    "    else:\n",
    "        value = np.nan \n",
    "        \n",
    "    return (value)\n",
    "    "
   ]
  },
  {
   "cell_type": "code",
   "execution_count": 37,
   "metadata": {
    "scrolled": true
   },
   "outputs": [],
   "source": [
    "df.Size=df.Size.map(convert_size)\n"
   ]
  },
  {
   "cell_type": "code",
   "execution_count": 38,
   "metadata": {},
   "outputs": [],
   "source": [
    "# We fill the nan values with the mean of the Size because we consider that nan values are an important sum relating the data\n",
    "df.Size.fillna(np.mean(df.Size[df.Size!=np.nan]),inplace=True)"
   ]
  },
  {
   "cell_type": "code",
   "execution_count": 39,
   "metadata": {},
   "outputs": [
    {
     "data": {
      "text/plain": [
       "False"
      ]
     },
     "execution_count": 39,
     "metadata": {},
     "output_type": "execute_result"
    }
   ],
   "source": [
    "df.Size.isna().any() # to check the correct fillnan"
   ]
  },
  {
   "cell_type": "code",
   "execution_count": 40,
   "metadata": {},
   "outputs": [
    {
     "data": {
      "text/plain": [
       "('the feature has 0 nan values',\n",
       " 'the feature has 0 null values',\n",
       " 'the feature has the type of float64',\n",
       " 2.116677e+07    1540\n",
       " 1.100000e+07     182\n",
       " 1.200000e+07     181\n",
       " 1.400000e+07     177\n",
       " 1.300000e+07     177\n",
       " 1.500000e+07     163\n",
       " 1.700000e+07     146\n",
       " 2.600000e+07     142\n",
       " 1.000000e+07     138\n",
       " 1.600000e+07     137\n",
       " Name: Size, dtype: int64)"
      ]
     },
     "execution_count": 40,
     "metadata": {},
     "output_type": "execute_result"
    }
   ],
   "source": [
    "fastview(df.Size)"
   ]
  },
  {
   "cell_type": "markdown",
   "metadata": {},
   "source": [
    "INSTALL"
   ]
  },
  {
   "cell_type": "code",
   "execution_count": 41,
   "metadata": {},
   "outputs": [
    {
     "name": "stdout",
     "output_type": "stream",
     "text": [
      "the feature has 20 unique values and the dataframe has 10841 rows\n",
      "AxesSubplot(0.125,0.125;0.775x0.755)\n"
     ]
    },
    {
     "data": {
      "text/plain": [
       "('the feature has 0 nan values',\n",
       " 'the feature has 0 null values',\n",
       " 'the feature has the type of object',\n",
       " 1,000,000+     1417\n",
       " 100,000+       1112\n",
       " 10,000+        1031\n",
       " 10,000,000+     937\n",
       " 1,000+          888\n",
       " 100+            710\n",
       " 5,000,000+      607\n",
       " 500,000+        505\n",
       " 50,000+         469\n",
       " 5,000+          468\n",
       " Name: Installs, dtype: int64)"
      ]
     },
     "execution_count": 41,
     "metadata": {},
     "output_type": "execute_result"
    },
    {
     "data": {
      "image/png": "[encoded data removed]",
      "text/plain": [
       "<Figure size 432x288 with 1 Axes>"
      ]
     },
     "metadata": {},
     "output_type": "display_data"
    }
   ],
   "source": [
    "fastview(df.Installs)"
   ]
  },
  {
   "cell_type": "code",
   "execution_count": 42,
   "metadata": {},
   "outputs": [],
   "source": [
    "#rest are numeric but with '+' and ',' which shall be removed to convert these into numeric type.\n",
    "# replace and strip to convert to float\n",
    "df.Installs = [float(x.strip('+').replace(',','')) for x in df.Installs]"
   ]
  },
  {
   "cell_type": "code",
   "execution_count": 43,
   "metadata": {
    "scrolled": false
   },
   "outputs": [
    {
     "data": {
      "text/plain": [
       "('the feature has 0 nan values',\n",
       " 'the feature has 0 null values',\n",
       " 'the feature has the type of float64',\n",
       " 1000000.0     1417\n",
       " 100000.0      1112\n",
       " 10000.0       1031\n",
       " 10000000.0     937\n",
       " 1000.0         888\n",
       " 100.0          710\n",
       " 5000000.0      607\n",
       " 500000.0       505\n",
       " 50000.0        469\n",
       " 5000.0         468\n",
       " Name: Installs, dtype: int64)"
      ]
     },
     "execution_count": 43,
     "metadata": {},
     "output_type": "execute_result"
    }
   ],
   "source": [
    "fastview(df.Installs)"
   ]
  },
  {
   "cell_type": "code",
   "execution_count": 44,
   "metadata": {
    "scrolled": true
   },
   "outputs": [
    {
     "name": "stdout",
     "output_type": "stream",
     "text": [
      "False\n"
     ]
    },
    {
     "data": {
      "text/html": [
       "<div>\n",
       "<style scoped>\n",
       "    .dataframe tbody tr th:only-of-type {\n",
       "        vertical-align: middle;\n",
       "    }\n",
       "\n",
       "    .dataframe tbody tr th {\n",
       "        vertical-align: top;\n",
       "    }\n",
       "\n",
       "    .dataframe thead th {\n",
       "        text-align: right;\n",
       "    }\n",
       "</style>\n",
       "<table border=\"1\" class=\"dataframe\">\n",
       "  <thead>\n",
       "    <tr style=\"text-align: right;\">\n",
       "      <th></th>\n",
       "      <th>App</th>\n",
       "      <th>Category</th>\n",
       "      <th>Rating</th>\n",
       "      <th>Reviews</th>\n",
       "      <th>Size</th>\n",
       "      <th>Installs</th>\n",
       "      <th>Type</th>\n",
       "      <th>Price</th>\n",
       "      <th>Content Rating</th>\n",
       "      <th>Genres</th>\n",
       "      <th>Last Updated</th>\n",
       "      <th>Current Ver</th>\n",
       "      <th>Android Ver</th>\n",
       "    </tr>\n",
       "  </thead>\n",
       "  <tbody>\n",
       "    <tr>\n",
       "      <th>4465</th>\n",
       "      <td>Popsicle Launcher for Android P 9.0 launcher</td>\n",
       "      <td>PERSONALIZATION</td>\n",
       "      <td>4.45</td>\n",
       "      <td>0</td>\n",
       "      <td>5500000.0</td>\n",
       "      <td>0.0</td>\n",
       "      <td>Paid</td>\n",
       "      <td>$1.49</td>\n",
       "      <td>Everyone</td>\n",
       "      <td>Personalization</td>\n",
       "      <td>July 11, 2018</td>\n",
       "      <td>1.1</td>\n",
       "      <td>4.2 and up</td>\n",
       "    </tr>\n",
       "    <tr>\n",
       "      <th>5307</th>\n",
       "      <td>Ak Parti Yardım Toplama</td>\n",
       "      <td>SOCIAL</td>\n",
       "      <td>4.45</td>\n",
       "      <td>0</td>\n",
       "      <td>8700000.0</td>\n",
       "      <td>0.0</td>\n",
       "      <td>Paid</td>\n",
       "      <td>$13.99</td>\n",
       "      <td>Teen</td>\n",
       "      <td>Social</td>\n",
       "      <td>July 28, 2017</td>\n",
       "      <td>3.4.4.3.3</td>\n",
       "      <td>4.1 and up</td>\n",
       "    </tr>\n",
       "    <tr>\n",
       "      <th>5486</th>\n",
       "      <td>AP Series Solution Pro</td>\n",
       "      <td>FAMILY</td>\n",
       "      <td>4.45</td>\n",
       "      <td>0</td>\n",
       "      <td>7400000.0</td>\n",
       "      <td>0.0</td>\n",
       "      <td>Paid</td>\n",
       "      <td>$1.99</td>\n",
       "      <td>Everyone</td>\n",
       "      <td>Education</td>\n",
       "      <td>July 30, 2017</td>\n",
       "      <td>1.3</td>\n",
       "      <td>4.0 and up</td>\n",
       "    </tr>\n",
       "    <tr>\n",
       "      <th>5945</th>\n",
       "      <td>Ain Arabic Kids Alif Ba ta</td>\n",
       "      <td>FAMILY</td>\n",
       "      <td>4.45</td>\n",
       "      <td>0</td>\n",
       "      <td>33000000.0</td>\n",
       "      <td>0.0</td>\n",
       "      <td>Paid</td>\n",
       "      <td>$2.99</td>\n",
       "      <td>Everyone</td>\n",
       "      <td>Education</td>\n",
       "      <td>April 15, 2016</td>\n",
       "      <td>1.0</td>\n",
       "      <td>3.0 and up</td>\n",
       "    </tr>\n",
       "    <tr>\n",
       "      <th>6692</th>\n",
       "      <td>cronometra-br</td>\n",
       "      <td>PRODUCTIVITY</td>\n",
       "      <td>4.45</td>\n",
       "      <td>0</td>\n",
       "      <td>5400000.0</td>\n",
       "      <td>0.0</td>\n",
       "      <td>Paid</td>\n",
       "      <td>$154.99</td>\n",
       "      <td>Everyone</td>\n",
       "      <td>Productivity</td>\n",
       "      <td>November 24, 2017</td>\n",
       "      <td>1.0.0</td>\n",
       "      <td>4.1 and up</td>\n",
       "    </tr>\n",
       "    <tr>\n",
       "      <th>7434</th>\n",
       "      <td>Pekalongan CJ</td>\n",
       "      <td>SOCIAL</td>\n",
       "      <td>4.45</td>\n",
       "      <td>0</td>\n",
       "      <td>5900000.0</td>\n",
       "      <td>0.0</td>\n",
       "      <td>Free</td>\n",
       "      <td>0</td>\n",
       "      <td>Teen</td>\n",
       "      <td>Social</td>\n",
       "      <td>July 21, 2018</td>\n",
       "      <td>0.0.1</td>\n",
       "      <td>4.4 and up</td>\n",
       "    </tr>\n",
       "    <tr>\n",
       "      <th>8081</th>\n",
       "      <td>CX Network</td>\n",
       "      <td>BUSINESS</td>\n",
       "      <td>4.45</td>\n",
       "      <td>0</td>\n",
       "      <td>10000000.0</td>\n",
       "      <td>0.0</td>\n",
       "      <td>Free</td>\n",
       "      <td>0</td>\n",
       "      <td>Everyone</td>\n",
       "      <td>Business</td>\n",
       "      <td>August 6, 2018</td>\n",
       "      <td>1.3.1</td>\n",
       "      <td>4.1 and up</td>\n",
       "    </tr>\n",
       "    <tr>\n",
       "      <th>8614</th>\n",
       "      <td>Sweden Newspapers</td>\n",
       "      <td>NEWS_AND_MAGAZINES</td>\n",
       "      <td>4.45</td>\n",
       "      <td>0</td>\n",
       "      <td>2100000.0</td>\n",
       "      <td>0.0</td>\n",
       "      <td>Free</td>\n",
       "      <td>0</td>\n",
       "      <td>Everyone</td>\n",
       "      <td>News &amp; Magazines</td>\n",
       "      <td>July 7, 2018</td>\n",
       "      <td>1.1</td>\n",
       "      <td>4.4 and up</td>\n",
       "    </tr>\n",
       "    <tr>\n",
       "      <th>8871</th>\n",
       "      <td>Test Application DT 02</td>\n",
       "      <td>ART_AND_DESIGN</td>\n",
       "      <td>4.45</td>\n",
       "      <td>0</td>\n",
       "      <td>1200000.0</td>\n",
       "      <td>0.0</td>\n",
       "      <td>Free</td>\n",
       "      <td>0</td>\n",
       "      <td>Everyone</td>\n",
       "      <td>Art &amp; Design</td>\n",
       "      <td>March 14, 2017</td>\n",
       "      <td>4.0</td>\n",
       "      <td>4.2 and up</td>\n",
       "    </tr>\n",
       "    <tr>\n",
       "      <th>9337</th>\n",
       "      <td>EG | Explore Folegandros</td>\n",
       "      <td>TRAVEL_AND_LOCAL</td>\n",
       "      <td>4.45</td>\n",
       "      <td>0</td>\n",
       "      <td>56000000.0</td>\n",
       "      <td>0.0</td>\n",
       "      <td>Paid</td>\n",
       "      <td>$3.99</td>\n",
       "      <td>Everyone</td>\n",
       "      <td>Travel &amp; Local</td>\n",
       "      <td>January 22, 2017</td>\n",
       "      <td>1.1.1</td>\n",
       "      <td>4.1 and up</td>\n",
       "    </tr>\n",
       "    <tr>\n",
       "      <th>9719</th>\n",
       "      <td>EP Cook Book</td>\n",
       "      <td>MEDICAL</td>\n",
       "      <td>4.45</td>\n",
       "      <td>0</td>\n",
       "      <td>3200000.0</td>\n",
       "      <td>0.0</td>\n",
       "      <td>Paid</td>\n",
       "      <td>$200.00</td>\n",
       "      <td>Everyone</td>\n",
       "      <td>Medical</td>\n",
       "      <td>July 26, 2015</td>\n",
       "      <td>1.0</td>\n",
       "      <td>3.0 and up</td>\n",
       "    </tr>\n",
       "    <tr>\n",
       "      <th>9905</th>\n",
       "      <td>Eu sou Rico</td>\n",
       "      <td>FINANCE</td>\n",
       "      <td>4.45</td>\n",
       "      <td>0</td>\n",
       "      <td>2600000.0</td>\n",
       "      <td>0.0</td>\n",
       "      <td>Paid</td>\n",
       "      <td>$30.99</td>\n",
       "      <td>Everyone</td>\n",
       "      <td>Finance</td>\n",
       "      <td>January 9, 2018</td>\n",
       "      <td>1.0</td>\n",
       "      <td>4.0 and up</td>\n",
       "    </tr>\n",
       "    <tr>\n",
       "      <th>9917</th>\n",
       "      <td>Eu Sou Rico</td>\n",
       "      <td>FINANCE</td>\n",
       "      <td>4.45</td>\n",
       "      <td>0</td>\n",
       "      <td>1400000.0</td>\n",
       "      <td>0.0</td>\n",
       "      <td>Paid</td>\n",
       "      <td>$394.99</td>\n",
       "      <td>Everyone</td>\n",
       "      <td>Finance</td>\n",
       "      <td>July 11, 2018</td>\n",
       "      <td>1.0</td>\n",
       "      <td>4.0.3 and up</td>\n",
       "    </tr>\n",
       "    <tr>\n",
       "      <th>9934</th>\n",
       "      <td>I'm Rich/Eu sou Rico/أنا غني/我很有錢</td>\n",
       "      <td>LIFESTYLE</td>\n",
       "      <td>4.45</td>\n",
       "      <td>0</td>\n",
       "      <td>40000000.0</td>\n",
       "      <td>0.0</td>\n",
       "      <td>Paid</td>\n",
       "      <td>$399.99</td>\n",
       "      <td>Everyone</td>\n",
       "      <td>Lifestyle</td>\n",
       "      <td>December 1, 2017</td>\n",
       "      <td>MONEY</td>\n",
       "      <td>4.1 and up</td>\n",
       "    </tr>\n",
       "  </tbody>\n",
       "</table>\n",
       "</div>"
      ],
      "text/plain": [
       "                                               App            Category  \\\n",
       "4465  Popsicle Launcher for Android P 9.0 launcher     PERSONALIZATION   \n",
       "5307                       Ak Parti Yardım Toplama              SOCIAL   \n",
       "5486                        AP Series Solution Pro              FAMILY   \n",
       "5945                    Ain Arabic Kids Alif Ba ta              FAMILY   \n",
       "6692                                 cronometra-br        PRODUCTIVITY   \n",
       "7434                                 Pekalongan CJ              SOCIAL   \n",
       "8081                                    CX Network            BUSINESS   \n",
       "8614                             Sweden Newspapers  NEWS_AND_MAGAZINES   \n",
       "8871                        Test Application DT 02      ART_AND_DESIGN   \n",
       "9337                      EG | Explore Folegandros    TRAVEL_AND_LOCAL   \n",
       "9719                                  EP Cook Book             MEDICAL   \n",
       "9905                                   Eu sou Rico             FINANCE   \n",
       "9917                                   Eu Sou Rico             FINANCE   \n",
       "9934             I'm Rich/Eu sou Rico/أنا غني/我很有錢           LIFESTYLE   \n",
       "\n",
       "      Rating  Reviews        Size  Installs  Type    Price Content Rating  \\\n",
       "4465    4.45        0   5500000.0       0.0  Paid    $1.49       Everyone   \n",
       "5307    4.45        0   8700000.0       0.0  Paid   $13.99           Teen   \n",
       "5486    4.45        0   7400000.0       0.0  Paid    $1.99       Everyone   \n",
       "5945    4.45        0  33000000.0       0.0  Paid    $2.99       Everyone   \n",
       "6692    4.45        0   5400000.0       0.0  Paid  $154.99       Everyone   \n",
       "7434    4.45        0   5900000.0       0.0  Free        0           Teen   \n",
       "8081    4.45        0  10000000.0       0.0  Free        0       Everyone   \n",
       "8614    4.45        0   2100000.0       0.0  Free        0       Everyone   \n",
       "8871    4.45        0   1200000.0       0.0  Free        0       Everyone   \n",
       "9337    4.45        0  56000000.0       0.0  Paid    $3.99       Everyone   \n",
       "9719    4.45        0   3200000.0       0.0  Paid  $200.00       Everyone   \n",
       "9905    4.45        0   2600000.0       0.0  Paid   $30.99       Everyone   \n",
       "9917    4.45        0   1400000.0       0.0  Paid  $394.99       Everyone   \n",
       "9934    4.45        0  40000000.0       0.0  Paid  $399.99       Everyone   \n",
       "\n",
       "                Genres       Last Updated Current Ver   Android Ver  \n",
       "4465   Personalization      July 11, 2018         1.1    4.2 and up  \n",
       "5307            Social      July 28, 2017   3.4.4.3.3    4.1 and up  \n",
       "5486         Education      July 30, 2017         1.3    4.0 and up  \n",
       "5945         Education     April 15, 2016         1.0    3.0 and up  \n",
       "6692      Productivity  November 24, 2017       1.0.0    4.1 and up  \n",
       "7434            Social      July 21, 2018       0.0.1    4.4 and up  \n",
       "8081          Business     August 6, 2018       1.3.1    4.1 and up  \n",
       "8614  News & Magazines       July 7, 2018         1.1    4.4 and up  \n",
       "8871      Art & Design     March 14, 2017         4.0    4.2 and up  \n",
       "9337    Travel & Local   January 22, 2017       1.1.1    4.1 and up  \n",
       "9719           Medical      July 26, 2015         1.0    3.0 and up  \n",
       "9905           Finance    January 9, 2018         1.0    4.0 and up  \n",
       "9917           Finance      July 11, 2018         1.0  4.0.3 and up  \n",
       "9934         Lifestyle   December 1, 2017       MONEY    4.1 and up  "
      ]
     },
     "execution_count": 44,
     "metadata": {},
     "output_type": "execute_result"
    }
   ],
   "source": [
    "print(df.Installs.isnull().any())# don´t understand why is False and there are null values...\n",
    "df[df.Installs==0]"
   ]
  },
  {
   "cell_type": "code",
   "execution_count": 45,
   "metadata": {},
   "outputs": [],
   "source": [
    "df = df[df.Installs!=0] # remove null value because it would be an inexactly data"
   ]
  },
  {
   "cell_type": "markdown",
   "metadata": {},
   "source": [
    "PRICE"
   ]
  },
  {
   "cell_type": "code",
   "execution_count": 46,
   "metadata": {},
   "outputs": [
    {
     "name": "stdout",
     "output_type": "stream",
     "text": [
      "the feature has 88 unique values and the dataframe has 10841 rows\n"
     ]
    },
    {
     "data": {
      "text/plain": [
       "('the feature has 0 nan values',\n",
       " 'the feature has 0 null values',\n",
       " 'the feature has the type of object',\n",
       " 0        8898\n",
       " $0.99     145\n",
       " $2.99     123\n",
       " $1.99      72\n",
       " $4.99      70\n",
       " $3.99      56\n",
       " $1.49      45\n",
       " $5.99      26\n",
       " $2.49      25\n",
       " $9.99      19\n",
       " Name: Price, dtype: int64)"
      ]
     },
     "execution_count": 46,
     "metadata": {},
     "output_type": "execute_result"
    }
   ],
   "source": [
    "fastview(df.Price)"
   ]
  },
  {
   "cell_type": "code",
   "execution_count": 47,
   "metadata": {},
   "outputs": [],
   "source": [
    "df.Price = [float(x.strip('$')) for x in df.Price] # strip string value of the data to convert to float"
   ]
  },
  {
   "cell_type": "code",
   "execution_count": 48,
   "metadata": {
    "scrolled": true
   },
   "outputs": [
    {
     "data": {
      "text/plain": [
       "Text(0,0.5,'Frequency')"
      ]
     },
     "execution_count": 48,
     "metadata": {},
     "output_type": "execute_result"
    },
    {
     "data": {
      "image/png": "[encoded data removed]",
      "text/plain": [
       "<Figure size 432x288 with 1 Axes>"
      ]
     },
     "metadata": {},
     "output_type": "display_data"
    }
   ],
   "source": [
    "df.Price.hist();\n",
    "plt.xlabel('Price')\n",
    "plt.ylabel('Frequency')\n",
    "#Almost all the app are free"
   ]
  },
  {
   "cell_type": "markdown",
   "metadata": {},
   "source": [
    "CONTENT RATING"
   ]
  },
  {
   "cell_type": "code",
   "execution_count": 49,
   "metadata": {},
   "outputs": [
    {
     "name": "stdout",
     "output_type": "stream",
     "text": [
      "the feature has 6 unique values and the dataframe has 10841 rows\n",
      "AxesSubplot(0.125,0.125;0.775x0.755)\n"
     ]
    },
    {
     "data": {
      "text/plain": [
       "('the feature has 0 nan values',\n",
       " 'the feature has 0 null values',\n",
       " 'the feature has the type of object',\n",
       " Everyone           7891\n",
       " Teen               1034\n",
       " Mature 17+          393\n",
       " Everyone 10+        321\n",
       " Adults only 18+       3\n",
       " Unrated               2\n",
       " Name: Content Rating, dtype: int64)"
      ]
     },
     "execution_count": 49,
     "metadata": {},
     "output_type": "execute_result"
    },
    {
     "data": {
      "image/png": "[encoded data removed]",
      "text/plain": [
       "<Figure size 432x288 with 1 Axes>"
      ]
     },
     "metadata": {},
     "output_type": "display_data"
    }
   ],
   "source": [
    "fastview(df['Content Rating'])"
   ]
  },
  {
   "cell_type": "markdown",
   "metadata": {},
   "source": [
    "GENRES"
   ]
  },
  {
   "cell_type": "code",
   "execution_count": 50,
   "metadata": {},
   "outputs": [
    {
     "name": "stdout",
     "output_type": "stream",
     "text": [
      "the feature has 118 unique values and the dataframe has 10841 rows\n"
     ]
    },
    {
     "data": {
      "text/plain": [
       "('the feature has 0 nan values',\n",
       " 'the feature has 0 null values',\n",
       " 'the feature has the type of object',\n",
       " Tools              826\n",
       " Entertainment      561\n",
       " Education          508\n",
       " Business           419\n",
       " Medical            394\n",
       " Personalization    375\n",
       " Productivity       373\n",
       " Lifestyle          367\n",
       " Finance            343\n",
       " Sports             331\n",
       " Name: Genres, dtype: int64)"
      ]
     },
     "execution_count": 50,
     "metadata": {},
     "output_type": "execute_result"
    }
   ],
   "source": [
    "fastview(df.Genres)"
   ]
  },
  {
   "cell_type": "code",
   "execution_count": 51,
   "metadata": {},
   "outputs": [
    {
     "name": "stdout",
     "output_type": "stream",
     "text": [
      "The number of genres is 118 and the lenght of data is 9644 \n"
     ]
    }
   ],
   "source": [
    "df.Genres.value_counts().unique\n",
    "print(\"The number of genres is %s and the lenght of data is %s \" %(len(df.Genres.unique()),len(df)))\n",
    "# category feature. We don´t do anything at this time"
   ]
  },
  {
   "cell_type": "code",
   "execution_count": 52,
   "metadata": {},
   "outputs": [
    {
     "data": {
      "text/html": [
       "<div>\n",
       "<style scoped>\n",
       "    .dataframe tbody tr th:only-of-type {\n",
       "        vertical-align: middle;\n",
       "    }\n",
       "\n",
       "    .dataframe tbody tr th {\n",
       "        vertical-align: top;\n",
       "    }\n",
       "\n",
       "    .dataframe thead th {\n",
       "        text-align: right;\n",
       "    }\n",
       "</style>\n",
       "<table border=\"1\" class=\"dataframe\">\n",
       "  <thead>\n",
       "    <tr style=\"text-align: right;\">\n",
       "      <th></th>\n",
       "      <th>App</th>\n",
       "      <th>Category</th>\n",
       "      <th>Rating</th>\n",
       "      <th>Reviews</th>\n",
       "      <th>Size</th>\n",
       "      <th>Installs</th>\n",
       "      <th>Type</th>\n",
       "      <th>Price</th>\n",
       "      <th>Content Rating</th>\n",
       "      <th>Genres</th>\n",
       "      <th>Last Updated</th>\n",
       "      <th>Current Ver</th>\n",
       "      <th>Android Ver</th>\n",
       "    </tr>\n",
       "  </thead>\n",
       "  <tbody>\n",
       "    <tr>\n",
       "      <th>0</th>\n",
       "      <td>Photo Editor &amp; Candy Camera &amp; Grid &amp; ScrapBook</td>\n",
       "      <td>ART_AND_DESIGN</td>\n",
       "      <td>4.1</td>\n",
       "      <td>159</td>\n",
       "      <td>19000000.0</td>\n",
       "      <td>10000.0</td>\n",
       "      <td>Free</td>\n",
       "      <td>0.0</td>\n",
       "      <td>Everyone</td>\n",
       "      <td>Art &amp; Design</td>\n",
       "      <td>January 7, 2018</td>\n",
       "      <td>1.0.0</td>\n",
       "      <td>4.0.3 and up</td>\n",
       "    </tr>\n",
       "    <tr>\n",
       "      <th>1</th>\n",
       "      <td>Coloring book moana</td>\n",
       "      <td>ART_AND_DESIGN</td>\n",
       "      <td>3.9</td>\n",
       "      <td>967</td>\n",
       "      <td>14000000.0</td>\n",
       "      <td>500000.0</td>\n",
       "      <td>Free</td>\n",
       "      <td>0.0</td>\n",
       "      <td>Everyone</td>\n",
       "      <td>Art &amp; Design;Pretend Play</td>\n",
       "      <td>January 15, 2018</td>\n",
       "      <td>2.0.0</td>\n",
       "      <td>4.0.3 and up</td>\n",
       "    </tr>\n",
       "    <tr>\n",
       "      <th>2</th>\n",
       "      <td>U Launcher Lite – FREE Live Cool Themes, Hide ...</td>\n",
       "      <td>ART_AND_DESIGN</td>\n",
       "      <td>4.7</td>\n",
       "      <td>87510</td>\n",
       "      <td>8700000.0</td>\n",
       "      <td>5000000.0</td>\n",
       "      <td>Free</td>\n",
       "      <td>0.0</td>\n",
       "      <td>Everyone</td>\n",
       "      <td>Art &amp; Design</td>\n",
       "      <td>August 1, 2018</td>\n",
       "      <td>1.2.4</td>\n",
       "      <td>4.0.3 and up</td>\n",
       "    </tr>\n",
       "    <tr>\n",
       "      <th>3</th>\n",
       "      <td>Sketch - Draw &amp; Paint</td>\n",
       "      <td>ART_AND_DESIGN</td>\n",
       "      <td>4.5</td>\n",
       "      <td>215644</td>\n",
       "      <td>25000000.0</td>\n",
       "      <td>50000000.0</td>\n",
       "      <td>Free</td>\n",
       "      <td>0.0</td>\n",
       "      <td>Teen</td>\n",
       "      <td>Art &amp; Design</td>\n",
       "      <td>June 8, 2018</td>\n",
       "      <td>Varies with device</td>\n",
       "      <td>4.2 and up</td>\n",
       "    </tr>\n",
       "    <tr>\n",
       "      <th>4</th>\n",
       "      <td>Pixel Draw - Number Art Coloring Book</td>\n",
       "      <td>ART_AND_DESIGN</td>\n",
       "      <td>4.3</td>\n",
       "      <td>967</td>\n",
       "      <td>2800000.0</td>\n",
       "      <td>100000.0</td>\n",
       "      <td>Free</td>\n",
       "      <td>0.0</td>\n",
       "      <td>Everyone</td>\n",
       "      <td>Art &amp; Design;Creativity</td>\n",
       "      <td>June 20, 2018</td>\n",
       "      <td>1.1</td>\n",
       "      <td>4.4 and up</td>\n",
       "    </tr>\n",
       "  </tbody>\n",
       "</table>\n",
       "</div>"
      ],
      "text/plain": [
       "                                                 App        Category  Rating  \\\n",
       "0     Photo Editor & Candy Camera & Grid & ScrapBook  ART_AND_DESIGN     4.1   \n",
       "1                                Coloring book moana  ART_AND_DESIGN     3.9   \n",
       "2  U Launcher Lite – FREE Live Cool Themes, Hide ...  ART_AND_DESIGN     4.7   \n",
       "3                              Sketch - Draw & Paint  ART_AND_DESIGN     4.5   \n",
       "4              Pixel Draw - Number Art Coloring Book  ART_AND_DESIGN     4.3   \n",
       "\n",
       "   Reviews        Size    Installs  Type  Price Content Rating  \\\n",
       "0      159  19000000.0     10000.0  Free    0.0       Everyone   \n",
       "1      967  14000000.0    500000.0  Free    0.0       Everyone   \n",
       "2    87510   8700000.0   5000000.0  Free    0.0       Everyone   \n",
       "3   215644  25000000.0  50000000.0  Free    0.0           Teen   \n",
       "4      967   2800000.0    100000.0  Free    0.0       Everyone   \n",
       "\n",
       "                      Genres      Last Updated         Current Ver  \\\n",
       "0               Art & Design   January 7, 2018               1.0.0   \n",
       "1  Art & Design;Pretend Play  January 15, 2018               2.0.0   \n",
       "2               Art & Design    August 1, 2018               1.2.4   \n",
       "3               Art & Design      June 8, 2018  Varies with device   \n",
       "4    Art & Design;Creativity     June 20, 2018                 1.1   \n",
       "\n",
       "    Android Ver  \n",
       "0  4.0.3 and up  \n",
       "1  4.0.3 and up  \n",
       "2  4.0.3 and up  \n",
       "3    4.2 and up  \n",
       "4    4.4 and up  "
      ]
     },
     "execution_count": 52,
     "metadata": {},
     "output_type": "execute_result"
    }
   ],
   "source": [
    "df.head()"
   ]
  },
  {
   "cell_type": "markdown",
   "metadata": {},
   "source": [
    "LAST UPDATED"
   ]
  },
  {
   "cell_type": "code",
   "execution_count": 53,
   "metadata": {},
   "outputs": [
    {
     "name": "stdout",
     "output_type": "stream",
     "text": [
      "the feature has 1376 unique values and the dataframe has 10841 rows\n"
     ]
    },
    {
     "data": {
      "text/plain": [
       "('the feature has 0 nan values',\n",
       " 'the feature has 0 null values',\n",
       " 'the feature has the type of object',\n",
       " August 3, 2018    252\n",
       " August 2, 2018    230\n",
       " August 1, 2018    209\n",
       " July 31, 2018     204\n",
       " July 30, 2018     160\n",
       " July 26, 2018     135\n",
       " July 25, 2018     129\n",
       " July 24, 2018     121\n",
       " July 27, 2018     120\n",
       " August 6, 2018    114\n",
       " Name: Last Updated, dtype: int64)"
      ]
     },
     "execution_count": 53,
     "metadata": {},
     "output_type": "execute_result"
    }
   ],
   "source": [
    "fastview(df['Last Updated'])"
   ]
  },
  {
   "cell_type": "code",
   "execution_count": 54,
   "metadata": {},
   "outputs": [],
   "source": [
    "df[\"Last Updated\"] = pd.to_datetime(df[\"Last Updated\"], dayfirst=True)"
   ]
  },
  {
   "cell_type": "code",
   "execution_count": 55,
   "metadata": {},
   "outputs": [],
   "source": [
    "# I am taking a difference between last updated date and today in order to simplify the data"
   ]
  },
  {
   "cell_type": "code",
   "execution_count": 56,
   "metadata": {},
   "outputs": [],
   "source": [
    "df[\"Last Updated\"] = (datetime.today() - df[\"Last Updated\"]).apply(lambda x:int(str(x).split()[0]))"
   ]
  },
  {
   "cell_type": "code",
   "execution_count": 57,
   "metadata": {},
   "outputs": [],
   "source": [
    "df[\"Last Updated\"] = df[\"Last Updated\"].astype('int32')"
   ]
  },
  {
   "cell_type": "code",
   "execution_count": 58,
   "metadata": {},
   "outputs": [
    {
     "data": {
      "text/plain": [
       "('the feature has 0 nan values',\n",
       " 'the feature has 0 null values',\n",
       " 'the feature has the type of int32',\n",
       " 609    252\n",
       " 610    230\n",
       " 611    209\n",
       " 612    204\n",
       " 613    160\n",
       " 617    135\n",
       " 618    129\n",
       " 619    121\n",
       " 616    120\n",
       " 606    114\n",
       " Name: Last Updated, dtype: int64)"
      ]
     },
     "execution_count": 58,
     "metadata": {},
     "output_type": "execute_result"
    }
   ],
   "source": [
    "fastview(df['Last Updated'])"
   ]
  },
  {
   "cell_type": "markdown",
   "metadata": {},
   "source": [
    "CURRENT VERSION "
   ]
  },
  {
   "cell_type": "code",
   "execution_count": 59,
   "metadata": {},
   "outputs": [
    {
     "name": "stdout",
     "output_type": "stream",
     "text": [
      "the feature has 2816 unique values and the dataframe has 10841 rows\n"
     ]
    },
    {
     "data": {
      "text/plain": [
       "('the feature has 8 nan values',\n",
       " 'the feature has 8 null values',\n",
       " 'the feature has the type of object',\n",
       " Varies with device    1054\n",
       " 1.0                    795\n",
       " 1.1                    258\n",
       " 1.2                    176\n",
       " 2.0                    149\n",
       " 1.3                    139\n",
       " 1.0.0                  132\n",
       " 1.0.1                  115\n",
       " 1.4                     87\n",
       " 1.5                     80\n",
       " Name: Current Ver, dtype: int64)"
      ]
     },
     "execution_count": 59,
     "metadata": {},
     "output_type": "execute_result"
    }
   ],
   "source": [
    "fastview(df['Current Ver'])"
   ]
  },
  {
   "cell_type": "code",
   "execution_count": 60,
   "metadata": {},
   "outputs": [],
   "source": [
    "df.fillna(\"Varies with device\",inplace=True)"
   ]
  },
  {
   "cell_type": "code",
   "execution_count": 61,
   "metadata": {},
   "outputs": [],
   "source": [
    "# in order to reduce categories and simplify the data I will take until the second update number\n",
    "df[\"Current Ver\"] = [\"Varies with device\" if x==\"Varies with device\" else str(x)[:3] for x in df[\"Current Ver\"]]"
   ]
  },
  {
   "cell_type": "code",
   "execution_count": 62,
   "metadata": {},
   "outputs": [
    {
     "name": "stdout",
     "output_type": "stream",
     "text": [
      "the feature has 300 unique values and the dataframe has 10841 rows\n"
     ]
    },
    {
     "data": {
      "text/plain": [
       "('the feature has 0 nan values',\n",
       " 'the feature has 0 null values',\n",
       " 'the feature has the type of object',\n",
       " 1.0                   1714\n",
       " Varies with device    1062\n",
       " 1.1                    723\n",
       " 1.2                    504\n",
       " 2.0                    374\n",
       " 1.3                    313\n",
       " 2.1                    288\n",
       " 1.4                    217\n",
       " 3.0                    200\n",
       " 1.5                    195\n",
       " Name: Current Ver, dtype: int64)"
      ]
     },
     "execution_count": 62,
     "metadata": {},
     "output_type": "execute_result"
    }
   ],
   "source": [
    "fastview(df['Current Ver'])"
   ]
  },
  {
   "cell_type": "markdown",
   "metadata": {},
   "source": [
    "ANDROID VERSION"
   ]
  },
  {
   "cell_type": "code",
   "execution_count": 63,
   "metadata": {},
   "outputs": [
    {
     "name": "stdout",
     "output_type": "stream",
     "text": [
      "the feature has 33 unique values and the dataframe has 10841 rows\n"
     ]
    },
    {
     "data": {
      "text/plain": [
       "('the feature has 0 nan values',\n",
       " 'the feature has 0 null values',\n",
       " 'the feature has the type of object',\n",
       " 4.1 and up            2197\n",
       " 4.0.3 and up          1394\n",
       " 4.0 and up            1283\n",
       " Varies with device     991\n",
       " 4.4 and up             816\n",
       " 2.3 and up             616\n",
       " 5.0 and up             512\n",
       " 4.2 and up             370\n",
       " 2.3.3 and up           273\n",
       " 2.2 and up             239\n",
       " Name: Android Ver, dtype: int64)"
      ]
     },
     "execution_count": 63,
     "metadata": {},
     "output_type": "execute_result"
    }
   ],
   "source": [
    "fastview(df['Android Ver'])"
   ]
  },
  {
   "cell_type": "code",
   "execution_count": 64,
   "metadata": {},
   "outputs": [],
   "source": [
    "# in order to reduce categories and simplify the data I will take until the second update number\n",
    "df[\"Android Ver\"] = [\"Varies with device\" if x==\"Varies with device\" else str(x)[:3] for x in df[\"Android Ver\"] ]"
   ]
  },
  {
   "cell_type": "code",
   "execution_count": 65,
   "metadata": {},
   "outputs": [
    {
     "name": "stdout",
     "output_type": "stream",
     "text": [
      "the feature has 22 unique values and the dataframe has 10841 rows\n",
      "AxesSubplot(0.125,0.125;0.775x0.755)\n"
     ]
    },
    {
     "data": {
      "text/plain": [
       "('the feature has 0 nan values',\n",
       " 'the feature has 0 null values',\n",
       " 'the feature has the type of object',\n",
       " 4.0                   2679\n",
       " 4.1                   2198\n",
       " Varies with device     991\n",
       " 2.3                    889\n",
       " 4.4                    827\n",
       " 5.0                    516\n",
       " 4.2                    370\n",
       " 2.2                    240\n",
       " 3.0                    229\n",
       " 4.3                    221\n",
       " Name: Android Ver, dtype: int64)"
      ]
     },
     "execution_count": 65,
     "metadata": {},
     "output_type": "execute_result"
    },
    {
     "data": {
      "image/png": "[encoded data removed]",
      "text/plain": [
       "<Figure size 432x288 with 1 Axes>"
      ]
     },
     "metadata": {},
     "output_type": "display_data"
    }
   ],
   "source": [
    "fastview(df['Android Ver'])"
   ]
  },
  {
   "cell_type": "markdown",
   "metadata": {},
   "source": [
    "## Meeting features"
   ]
  },
  {
   "cell_type": "code",
   "execution_count": 66,
   "metadata": {},
   "outputs": [],
   "source": [
    "df.index = range(len(df))"
   ]
  },
  {
   "cell_type": "code",
   "execution_count": 67,
   "metadata": {},
   "outputs": [
    {
     "data": {
      "text/plain": [
       "True"
      ]
     },
     "execution_count": 67,
     "metadata": {},
     "output_type": "execute_result"
    }
   ],
   "source": [
    "len(df)==df['App'].nunique()# to check no duplicates apps"
   ]
  },
  {
   "cell_type": "code",
   "execution_count": 68,
   "metadata": {},
   "outputs": [],
   "source": [
    "df.set_index('App',inplace=True)"
   ]
  },
  {
   "cell_type": "code",
   "execution_count": 69,
   "metadata": {},
   "outputs": [
    {
     "data": {
      "text/html": [
       "<div>\n",
       "<style scoped>\n",
       "    .dataframe tbody tr th:only-of-type {\n",
       "        vertical-align: middle;\n",
       "    }\n",
       "\n",
       "    .dataframe tbody tr th {\n",
       "        vertical-align: top;\n",
       "    }\n",
       "\n",
       "    .dataframe thead th {\n",
       "        text-align: right;\n",
       "    }\n",
       "</style>\n",
       "<table border=\"1\" class=\"dataframe\">\n",
       "  <thead>\n",
       "    <tr style=\"text-align: right;\">\n",
       "      <th></th>\n",
       "      <th>Rating</th>\n",
       "      <th>Reviews</th>\n",
       "      <th>Size</th>\n",
       "      <th>Installs</th>\n",
       "      <th>Price</th>\n",
       "      <th>Last Updated</th>\n",
       "    </tr>\n",
       "  </thead>\n",
       "  <tbody>\n",
       "    <tr>\n",
       "      <th>Rating</th>\n",
       "      <td>1.000000</td>\n",
       "      <td>0.044196</td>\n",
       "      <td>0.021276</td>\n",
       "      <td>0.027371</td>\n",
       "      <td>-0.022475</td>\n",
       "      <td>-0.112670</td>\n",
       "    </tr>\n",
       "    <tr>\n",
       "      <th>Reviews</th>\n",
       "      <td>0.044196</td>\n",
       "      <td>1.000000</td>\n",
       "      <td>0.084942</td>\n",
       "      <td>0.625155</td>\n",
       "      <td>-0.007252</td>\n",
       "      <td>-0.065787</td>\n",
       "    </tr>\n",
       "    <tr>\n",
       "      <th>Size</th>\n",
       "      <td>0.021276</td>\n",
       "      <td>0.084942</td>\n",
       "      <td>1.000000</td>\n",
       "      <td>0.056773</td>\n",
       "      <td>-0.020653</td>\n",
       "      <td>-0.147337</td>\n",
       "    </tr>\n",
       "    <tr>\n",
       "      <th>Installs</th>\n",
       "      <td>0.027371</td>\n",
       "      <td>0.625155</td>\n",
       "      <td>0.056773</td>\n",
       "      <td>1.000000</td>\n",
       "      <td>-0.008991</td>\n",
       "      <td>-0.077896</td>\n",
       "    </tr>\n",
       "    <tr>\n",
       "      <th>Price</th>\n",
       "      <td>-0.022475</td>\n",
       "      <td>-0.007252</td>\n",
       "      <td>-0.020653</td>\n",
       "      <td>-0.008991</td>\n",
       "      <td>1.000000</td>\n",
       "      <td>0.001801</td>\n",
       "    </tr>\n",
       "    <tr>\n",
       "      <th>Last Updated</th>\n",
       "      <td>-0.112670</td>\n",
       "      <td>-0.065787</td>\n",
       "      <td>-0.147337</td>\n",
       "      <td>-0.077896</td>\n",
       "      <td>0.001801</td>\n",
       "      <td>1.000000</td>\n",
       "    </tr>\n",
       "  </tbody>\n",
       "</table>\n",
       "</div>"
      ],
      "text/plain": [
       "                Rating   Reviews      Size  Installs     Price  Last Updated\n",
       "Rating        1.000000  0.044196  0.021276  0.027371 -0.022475     -0.112670\n",
       "Reviews       0.044196  1.000000  0.084942  0.625155 -0.007252     -0.065787\n",
       "Size          0.021276  0.084942  1.000000  0.056773 -0.020653     -0.147337\n",
       "Installs      0.027371  0.625155  0.056773  1.000000 -0.008991     -0.077896\n",
       "Price        -0.022475 -0.007252 -0.020653 -0.008991  1.000000      0.001801\n",
       "Last Updated -0.112670 -0.065787 -0.147337 -0.077896  0.001801      1.000000"
      ]
     },
     "execution_count": 69,
     "metadata": {},
     "output_type": "execute_result"
    }
   ],
   "source": [
    "corr_table = df.corr(method=\"pearson\")\n",
    "corr_table"
   ]
  },
  {
   "cell_type": "code",
   "execution_count": 70,
   "metadata": {
    "scrolled": true
   },
   "outputs": [
    {
     "data": {
      "text/html": [
       "<style  type=\"text/css\" >\n",
       "    #T_f3c3abb4_7594_11ea_8286_b0359fbd8b74row0_col0 {\n",
       "            background-color:  #b40426;\n",
       "        }    #T_f3c3abb4_7594_11ea_8286_b0359fbd8b74row0_col1 {\n",
       "            background-color:  #5a78e4;\n",
       "        }    #T_f3c3abb4_7594_11ea_8286_b0359fbd8b74row0_col2 {\n",
       "            background-color:  #688aef;\n",
       "        }    #T_f3c3abb4_7594_11ea_8286_b0359fbd8b74row0_col3 {\n",
       "            background-color:  #5977e3;\n",
       "        }    #T_f3c3abb4_7594_11ea_8286_b0359fbd8b74row0_col4 {\n",
       "            background-color:  #3b4cc0;\n",
       "        }    #T_f3c3abb4_7594_11ea_8286_b0359fbd8b74row0_col5 {\n",
       "            background-color:  #4358cb;\n",
       "        }    #T_f3c3abb4_7594_11ea_8286_b0359fbd8b74row1_col0 {\n",
       "            background-color:  #6788ee;\n",
       "        }    #T_f3c3abb4_7594_11ea_8286_b0359fbd8b74row1_col1 {\n",
       "            background-color:  #b40426;\n",
       "        }    #T_f3c3abb4_7594_11ea_8286_b0359fbd8b74row1_col2 {\n",
       "            background-color:  #7b9ff9;\n",
       "        }    #T_f3c3abb4_7594_11ea_8286_b0359fbd8b74row1_col3 {\n",
       "            background-color:  #f6bda2;\n",
       "        }    #T_f3c3abb4_7594_11ea_8286_b0359fbd8b74row1_col4 {\n",
       "            background-color:  #3e51c5;\n",
       "        }    #T_f3c3abb4_7594_11ea_8286_b0359fbd8b74row1_col5 {\n",
       "            background-color:  #506bda;\n",
       "        }    #T_f3c3abb4_7594_11ea_8286_b0359fbd8b74row2_col0 {\n",
       "            background-color:  #5f7fe8;\n",
       "        }    #T_f3c3abb4_7594_11ea_8286_b0359fbd8b74row2_col1 {\n",
       "            background-color:  #6788ee;\n",
       "        }    #T_f3c3abb4_7594_11ea_8286_b0359fbd8b74row2_col2 {\n",
       "            background-color:  #b40426;\n",
       "        }    #T_f3c3abb4_7594_11ea_8286_b0359fbd8b74row2_col3 {\n",
       "            background-color:  #6180e9;\n",
       "        }    #T_f3c3abb4_7594_11ea_8286_b0359fbd8b74row2_col4 {\n",
       "            background-color:  #3b4cc0;\n",
       "        }    #T_f3c3abb4_7594_11ea_8286_b0359fbd8b74row2_col5 {\n",
       "            background-color:  #3b4cc0;\n",
       "        }    #T_f3c3abb4_7594_11ea_8286_b0359fbd8b74row3_col0 {\n",
       "            background-color:  #6282ea;\n",
       "        }    #T_f3c3abb4_7594_11ea_8286_b0359fbd8b74row3_col1 {\n",
       "            background-color:  #f6bea4;\n",
       "        }    #T_f3c3abb4_7594_11ea_8286_b0359fbd8b74row3_col2 {\n",
       "            background-color:  #7396f5;\n",
       "        }    #T_f3c3abb4_7594_11ea_8286_b0359fbd8b74row3_col3 {\n",
       "            background-color:  #b40426;\n",
       "        }    #T_f3c3abb4_7594_11ea_8286_b0359fbd8b74row3_col4 {\n",
       "            background-color:  #3e51c5;\n",
       "        }    #T_f3c3abb4_7594_11ea_8286_b0359fbd8b74row3_col5 {\n",
       "            background-color:  #4c66d6;\n",
       "        }    #T_f3c3abb4_7594_11ea_8286_b0359fbd8b74row4_col0 {\n",
       "            background-color:  #536edd;\n",
       "        }    #T_f3c3abb4_7594_11ea_8286_b0359fbd8b74row4_col1 {\n",
       "            background-color:  #4b64d5;\n",
       "        }    #T_f3c3abb4_7594_11ea_8286_b0359fbd8b74row4_col2 {\n",
       "            background-color:  #5d7ce6;\n",
       "        }    #T_f3c3abb4_7594_11ea_8286_b0359fbd8b74row4_col3 {\n",
       "            background-color:  #4e68d8;\n",
       "        }    #T_f3c3abb4_7594_11ea_8286_b0359fbd8b74row4_col4 {\n",
       "            background-color:  #b40426;\n",
       "        }    #T_f3c3abb4_7594_11ea_8286_b0359fbd8b74row4_col5 {\n",
       "            background-color:  #6384eb;\n",
       "        }    #T_f3c3abb4_7594_11ea_8286_b0359fbd8b74row5_col0 {\n",
       "            background-color:  #3b4cc0;\n",
       "        }    #T_f3c3abb4_7594_11ea_8286_b0359fbd8b74row5_col1 {\n",
       "            background-color:  #3b4cc0;\n",
       "        }    #T_f3c3abb4_7594_11ea_8286_b0359fbd8b74row5_col2 {\n",
       "            background-color:  #3b4cc0;\n",
       "        }    #T_f3c3abb4_7594_11ea_8286_b0359fbd8b74row5_col3 {\n",
       "            background-color:  #3b4cc0;\n",
       "        }    #T_f3c3abb4_7594_11ea_8286_b0359fbd8b74row5_col4 {\n",
       "            background-color:  #4257c9;\n",
       "        }    #T_f3c3abb4_7594_11ea_8286_b0359fbd8b74row5_col5 {\n",
       "            background-color:  #b40426;\n",
       "        }</style>  \n",
       "<table id=\"T_f3c3abb4_7594_11ea_8286_b0359fbd8b74\" > \n",
       "<thead>    <tr> \n",
       "        <th class=\"blank level0\" ></th> \n",
       "        <th class=\"col_heading level0 col0\" >Rating</th> \n",
       "        <th class=\"col_heading level0 col1\" >Reviews</th> \n",
       "        <th class=\"col_heading level0 col2\" >Size</th> \n",
       "        <th class=\"col_heading level0 col3\" >Installs</th> \n",
       "        <th class=\"col_heading level0 col4\" >Price</th> \n",
       "        <th class=\"col_heading level0 col5\" >Last Updated</th> \n",
       "    </tr></thead> \n",
       "<tbody>    <tr> \n",
       "        <th id=\"T_f3c3abb4_7594_11ea_8286_b0359fbd8b74level0_row0\" class=\"row_heading level0 row0\" >Rating</th> \n",
       "        <td id=\"T_f3c3abb4_7594_11ea_8286_b0359fbd8b74row0_col0\" class=\"data row0 col0\" >1</td> \n",
       "        <td id=\"T_f3c3abb4_7594_11ea_8286_b0359fbd8b74row0_col1\" class=\"data row0 col1\" >0.0441961</td> \n",
       "        <td id=\"T_f3c3abb4_7594_11ea_8286_b0359fbd8b74row0_col2\" class=\"data row0 col2\" >0.021276</td> \n",
       "        <td id=\"T_f3c3abb4_7594_11ea_8286_b0359fbd8b74row0_col3\" class=\"data row0 col3\" >0.0273707</td> \n",
       "        <td id=\"T_f3c3abb4_7594_11ea_8286_b0359fbd8b74row0_col4\" class=\"data row0 col4\" >-0.022475</td> \n",
       "        <td id=\"T_f3c3abb4_7594_11ea_8286_b0359fbd8b74row0_col5\" class=\"data row0 col5\" >-0.11267</td> \n",
       "    </tr>    <tr> \n",
       "        <th id=\"T_f3c3abb4_7594_11ea_8286_b0359fbd8b74level0_row1\" class=\"row_heading level0 row1\" >Reviews</th> \n",
       "        <td id=\"T_f3c3abb4_7594_11ea_8286_b0359fbd8b74row1_col0\" class=\"data row1 col0\" >0.0441961</td> \n",
       "        <td id=\"T_f3c3abb4_7594_11ea_8286_b0359fbd8b74row1_col1\" class=\"data row1 col1\" >1</td> \n",
       "        <td id=\"T_f3c3abb4_7594_11ea_8286_b0359fbd8b74row1_col2\" class=\"data row1 col2\" >0.084942</td> \n",
       "        <td id=\"T_f3c3abb4_7594_11ea_8286_b0359fbd8b74row1_col3\" class=\"data row1 col3\" >0.625155</td> \n",
       "        <td id=\"T_f3c3abb4_7594_11ea_8286_b0359fbd8b74row1_col4\" class=\"data row1 col4\" >-0.00725178</td> \n",
       "        <td id=\"T_f3c3abb4_7594_11ea_8286_b0359fbd8b74row1_col5\" class=\"data row1 col5\" >-0.0657865</td> \n",
       "    </tr>    <tr> \n",
       "        <th id=\"T_f3c3abb4_7594_11ea_8286_b0359fbd8b74level0_row2\" class=\"row_heading level0 row2\" >Size</th> \n",
       "        <td id=\"T_f3c3abb4_7594_11ea_8286_b0359fbd8b74row2_col0\" class=\"data row2 col0\" >0.021276</td> \n",
       "        <td id=\"T_f3c3abb4_7594_11ea_8286_b0359fbd8b74row2_col1\" class=\"data row2 col1\" >0.084942</td> \n",
       "        <td id=\"T_f3c3abb4_7594_11ea_8286_b0359fbd8b74row2_col2\" class=\"data row2 col2\" >1</td> \n",
       "        <td id=\"T_f3c3abb4_7594_11ea_8286_b0359fbd8b74row2_col3\" class=\"data row2 col3\" >0.056773</td> \n",
       "        <td id=\"T_f3c3abb4_7594_11ea_8286_b0359fbd8b74row2_col4\" class=\"data row2 col4\" >-0.0206529</td> \n",
       "        <td id=\"T_f3c3abb4_7594_11ea_8286_b0359fbd8b74row2_col5\" class=\"data row2 col5\" >-0.147337</td> \n",
       "    </tr>    <tr> \n",
       "        <th id=\"T_f3c3abb4_7594_11ea_8286_b0359fbd8b74level0_row3\" class=\"row_heading level0 row3\" >Installs</th> \n",
       "        <td id=\"T_f3c3abb4_7594_11ea_8286_b0359fbd8b74row3_col0\" class=\"data row3 col0\" >0.0273707</td> \n",
       "        <td id=\"T_f3c3abb4_7594_11ea_8286_b0359fbd8b74row3_col1\" class=\"data row3 col1\" >0.625155</td> \n",
       "        <td id=\"T_f3c3abb4_7594_11ea_8286_b0359fbd8b74row3_col2\" class=\"data row3 col2\" >0.056773</td> \n",
       "        <td id=\"T_f3c3abb4_7594_11ea_8286_b0359fbd8b74row3_col3\" class=\"data row3 col3\" >1</td> \n",
       "        <td id=\"T_f3c3abb4_7594_11ea_8286_b0359fbd8b74row3_col4\" class=\"data row3 col4\" >-0.0089906</td> \n",
       "        <td id=\"T_f3c3abb4_7594_11ea_8286_b0359fbd8b74row3_col5\" class=\"data row3 col5\" >-0.0778964</td> \n",
       "    </tr>    <tr> \n",
       "        <th id=\"T_f3c3abb4_7594_11ea_8286_b0359fbd8b74level0_row4\" class=\"row_heading level0 row4\" >Price</th> \n",
       "        <td id=\"T_f3c3abb4_7594_11ea_8286_b0359fbd8b74row4_col0\" class=\"data row4 col0\" >-0.022475</td> \n",
       "        <td id=\"T_f3c3abb4_7594_11ea_8286_b0359fbd8b74row4_col1\" class=\"data row4 col1\" >-0.00725178</td> \n",
       "        <td id=\"T_f3c3abb4_7594_11ea_8286_b0359fbd8b74row4_col2\" class=\"data row4 col2\" >-0.0206529</td> \n",
       "        <td id=\"T_f3c3abb4_7594_11ea_8286_b0359fbd8b74row4_col3\" class=\"data row4 col3\" >-0.0089906</td> \n",
       "        <td id=\"T_f3c3abb4_7594_11ea_8286_b0359fbd8b74row4_col4\" class=\"data row4 col4\" >1</td> \n",
       "        <td id=\"T_f3c3abb4_7594_11ea_8286_b0359fbd8b74row4_col5\" class=\"data row4 col5\" >0.0018012</td> \n",
       "    </tr>    <tr> \n",
       "        <th id=\"T_f3c3abb4_7594_11ea_8286_b0359fbd8b74level0_row5\" class=\"row_heading level0 row5\" >Last Updated</th> \n",
       "        <td id=\"T_f3c3abb4_7594_11ea_8286_b0359fbd8b74row5_col0\" class=\"data row5 col0\" >-0.11267</td> \n",
       "        <td id=\"T_f3c3abb4_7594_11ea_8286_b0359fbd8b74row5_col1\" class=\"data row5 col1\" >-0.0657865</td> \n",
       "        <td id=\"T_f3c3abb4_7594_11ea_8286_b0359fbd8b74row5_col2\" class=\"data row5 col2\" >-0.147337</td> \n",
       "        <td id=\"T_f3c3abb4_7594_11ea_8286_b0359fbd8b74row5_col3\" class=\"data row5 col3\" >-0.0778964</td> \n",
       "        <td id=\"T_f3c3abb4_7594_11ea_8286_b0359fbd8b74row5_col4\" class=\"data row5 col4\" >0.0018012</td> \n",
       "        <td id=\"T_f3c3abb4_7594_11ea_8286_b0359fbd8b74row5_col5\" class=\"data row5 col5\" >1</td> \n",
       "    </tr></tbody> \n",
       "</table> "
      ],
      "text/plain": [
       "<pandas.io.formats.style.Styler at 0x241a2a67710>"
      ]
     },
     "execution_count": 70,
     "metadata": {},
     "output_type": "execute_result"
    }
   ],
   "source": [
    "df.corr().style.background_gradient(cmap='coolwarm')"
   ]
  },
  {
   "cell_type": "code",
   "execution_count": 71,
   "metadata": {},
   "outputs": [
    {
     "data": {
      "image/png": "[encoded data removed]",
      "text/plain": [
       "<Figure size 1080x1080 with 36 Axes>"
      ]
     },
     "metadata": {},
     "output_type": "display_data"
    }
   ],
   "source": [
    "color_list = ['red' if i=='Paid' else 'green' for i in df.loc[:,'Type']]\n",
    "pd.plotting.scatter_matrix(df.loc[:, df.columns != 'Type'],\n",
    "                                       c=color_list,\n",
    "                                       figsize= [15,15],\n",
    "                                       diagonal='hist',\n",
    "                                       alpha=0.5,\n",
    "                                       s = 200,\n",
    "                                       marker = '*',\n",
    "                                       edgecolor= \"black\")\n",
    "plt.show()"
   ]
  },
  {
   "cell_type": "markdown",
   "metadata": {},
   "source": [
    "**Correlation conclusion**: there is not an important correlation between numeric features"
   ]
  },
  {
   "cell_type": "code",
   "execution_count": 73,
   "metadata": {
    "scrolled": true
   },
   "outputs": [
    {
     "data": {
      "image/png": "[encoded data removed]",
      "text/plain": [
       "<Figure size 504x288 with 1 Axes>"
      ]
     },
     "metadata": {},
     "output_type": "display_data"
    }
   ],
   "source": [
    "# Plot the best correlation founded\n",
    "plt.figure(figsize=(7, 4)) \n",
    "plt.title('Relation Install_Reviews', fontsize=15,fontweight='bold', pad=10)\n",
    "plt.xlabel('Installs', fontsize=14, labelpad=20)\n",
    "plt.ylabel('Reviews', fontsize=14, labelpad=20)\n",
    "plt.scatter(df.Reviews, df.Installs, c = df.Rating, linewidth=0)\n",
    "plt.show()"
   ]
  },
  {
   "cell_type": "markdown",
   "metadata": {},
   "source": [
    "## TYPE PREDICTION\n",
    "\n",
    "In order to take the decision of implement our APP price or releasing it free for public, we are going to take into account diverse methods of machine learning classification, paying special attention to balance strategies\n",
    "\n",
    "Difficulties:\n",
    "\n",
    "- Imbalanced data\n",
    "- Many categorical features\n",
    "- Diverse meaning and magnithude of the numerical data\n",
    "\n",
    "At the end of this chapter I will finally choose the better modell and take after that another Machine Learning method to adjust a price to our test APP "
   ]
  },
  {
   "cell_type": "code",
   "execution_count": 75,
   "metadata": {},
   "outputs": [],
   "source": [
    "data = df.copy()"
   ]
  },
  {
   "cell_type": "code",
   "execution_count": 76,
   "metadata": {},
   "outputs": [
    {
     "data": {
      "text/html": [
       "<div>\n",
       "<style scoped>\n",
       "    .dataframe tbody tr th:only-of-type {\n",
       "        vertical-align: middle;\n",
       "    }\n",
       "\n",
       "    .dataframe tbody tr th {\n",
       "        vertical-align: top;\n",
       "    }\n",
       "\n",
       "    .dataframe thead th {\n",
       "        text-align: right;\n",
       "    }\n",
       "</style>\n",
       "<table border=\"1\" class=\"dataframe\">\n",
       "  <thead>\n",
       "    <tr style=\"text-align: right;\">\n",
       "      <th></th>\n",
       "      <th>Category</th>\n",
       "      <th>Rating</th>\n",
       "      <th>Reviews</th>\n",
       "      <th>Size</th>\n",
       "      <th>Installs</th>\n",
       "      <th>Type</th>\n",
       "      <th>Price</th>\n",
       "      <th>Content Rating</th>\n",
       "      <th>Genres</th>\n",
       "      <th>Last Updated</th>\n",
       "      <th>Current Ver</th>\n",
       "      <th>Android Ver</th>\n",
       "    </tr>\n",
       "    <tr>\n",
       "      <th>App</th>\n",
       "      <th></th>\n",
       "      <th></th>\n",
       "      <th></th>\n",
       "      <th></th>\n",
       "      <th></th>\n",
       "      <th></th>\n",
       "      <th></th>\n",
       "      <th></th>\n",
       "      <th></th>\n",
       "      <th></th>\n",
       "      <th></th>\n",
       "      <th></th>\n",
       "    </tr>\n",
       "  </thead>\n",
       "  <tbody>\n",
       "    <tr>\n",
       "      <th>Photo Editor &amp; Candy Camera &amp; Grid &amp; ScrapBook</th>\n",
       "      <td>ART_AND_DESIGN</td>\n",
       "      <td>4.1</td>\n",
       "      <td>159</td>\n",
       "      <td>19000000.0</td>\n",
       "      <td>10000.0</td>\n",
       "      <td>Free</td>\n",
       "      <td>0.0</td>\n",
       "      <td>Everyone</td>\n",
       "      <td>Art &amp; Design</td>\n",
       "      <td>817</td>\n",
       "      <td>1.0</td>\n",
       "      <td>4.0</td>\n",
       "    </tr>\n",
       "    <tr>\n",
       "      <th>Coloring book moana</th>\n",
       "      <td>ART_AND_DESIGN</td>\n",
       "      <td>3.9</td>\n",
       "      <td>967</td>\n",
       "      <td>14000000.0</td>\n",
       "      <td>500000.0</td>\n",
       "      <td>Free</td>\n",
       "      <td>0.0</td>\n",
       "      <td>Everyone</td>\n",
       "      <td>Art &amp; Design;Pretend Play</td>\n",
       "      <td>809</td>\n",
       "      <td>2.0</td>\n",
       "      <td>4.0</td>\n",
       "    </tr>\n",
       "    <tr>\n",
       "      <th>U Launcher Lite – FREE Live Cool Themes, Hide Apps</th>\n",
       "      <td>ART_AND_DESIGN</td>\n",
       "      <td>4.7</td>\n",
       "      <td>87510</td>\n",
       "      <td>8700000.0</td>\n",
       "      <td>5000000.0</td>\n",
       "      <td>Free</td>\n",
       "      <td>0.0</td>\n",
       "      <td>Everyone</td>\n",
       "      <td>Art &amp; Design</td>\n",
       "      <td>611</td>\n",
       "      <td>1.2</td>\n",
       "      <td>4.0</td>\n",
       "    </tr>\n",
       "    <tr>\n",
       "      <th>Sketch - Draw &amp; Paint</th>\n",
       "      <td>ART_AND_DESIGN</td>\n",
       "      <td>4.5</td>\n",
       "      <td>215644</td>\n",
       "      <td>25000000.0</td>\n",
       "      <td>50000000.0</td>\n",
       "      <td>Free</td>\n",
       "      <td>0.0</td>\n",
       "      <td>Teen</td>\n",
       "      <td>Art &amp; Design</td>\n",
       "      <td>665</td>\n",
       "      <td>Varies with device</td>\n",
       "      <td>4.2</td>\n",
       "    </tr>\n",
       "    <tr>\n",
       "      <th>Pixel Draw - Number Art Coloring Book</th>\n",
       "      <td>ART_AND_DESIGN</td>\n",
       "      <td>4.3</td>\n",
       "      <td>967</td>\n",
       "      <td>2800000.0</td>\n",
       "      <td>100000.0</td>\n",
       "      <td>Free</td>\n",
       "      <td>0.0</td>\n",
       "      <td>Everyone</td>\n",
       "      <td>Art &amp; Design;Creativity</td>\n",
       "      <td>653</td>\n",
       "      <td>1.1</td>\n",
       "      <td>4.4</td>\n",
       "    </tr>\n",
       "  </tbody>\n",
       "</table>\n",
       "</div>"
      ],
      "text/plain": [
       "                                                          Category  Rating  \\\n",
       "App                                                                          \n",
       "Photo Editor & Candy Camera & Grid & ScrapBook      ART_AND_DESIGN     4.1   \n",
       "Coloring book moana                                 ART_AND_DESIGN     3.9   \n",
       "U Launcher Lite – FREE Live Cool Themes, Hide Apps  ART_AND_DESIGN     4.7   \n",
       "Sketch - Draw & Paint                               ART_AND_DESIGN     4.5   \n",
       "Pixel Draw - Number Art Coloring Book               ART_AND_DESIGN     4.3   \n",
       "\n",
       "                                                    Reviews        Size  \\\n",
       "App                                                                       \n",
       "Photo Editor & Candy Camera & Grid & ScrapBook          159  19000000.0   \n",
       "Coloring book moana                                     967  14000000.0   \n",
       "U Launcher Lite – FREE Live Cool Themes, Hide Apps    87510   8700000.0   \n",
       "Sketch - Draw & Paint                                215644  25000000.0   \n",
       "Pixel Draw - Number Art Coloring Book                   967   2800000.0   \n",
       "\n",
       "                                                      Installs  Type  Price  \\\n",
       "App                                                                           \n",
       "Photo Editor & Candy Camera & Grid & ScrapBook         10000.0  Free    0.0   \n",
       "Coloring book moana                                   500000.0  Free    0.0   \n",
       "U Launcher Lite – FREE Live Cool Themes, Hide Apps   5000000.0  Free    0.0   \n",
       "Sketch - Draw & Paint                               50000000.0  Free    0.0   \n",
       "Pixel Draw - Number Art Coloring Book                 100000.0  Free    0.0   \n",
       "\n",
       "                                                   Content Rating  \\\n",
       "App                                                                 \n",
       "Photo Editor & Candy Camera & Grid & ScrapBook           Everyone   \n",
       "Coloring book moana                                      Everyone   \n",
       "U Launcher Lite – FREE Live Cool Themes, Hide Apps       Everyone   \n",
       "Sketch - Draw & Paint                                        Teen   \n",
       "Pixel Draw - Number Art Coloring Book                    Everyone   \n",
       "\n",
       "                                                                       Genres  \\\n",
       "App                                                                             \n",
       "Photo Editor & Candy Camera & Grid & ScrapBook                   Art & Design   \n",
       "Coloring book moana                                 Art & Design;Pretend Play   \n",
       "U Launcher Lite – FREE Live Cool Themes, Hide Apps               Art & Design   \n",
       "Sketch - Draw & Paint                                            Art & Design   \n",
       "Pixel Draw - Number Art Coloring Book                 Art & Design;Creativity   \n",
       "\n",
       "                                                    Last Updated  \\\n",
       "App                                                                \n",
       "Photo Editor & Candy Camera & Grid & ScrapBook               817   \n",
       "Coloring book moana                                          809   \n",
       "U Launcher Lite – FREE Live Cool Themes, Hide Apps           611   \n",
       "Sketch - Draw & Paint                                        665   \n",
       "Pixel Draw - Number Art Coloring Book                        653   \n",
       "\n",
       "                                                           Current Ver  \\\n",
       "App                                                                      \n",
       "Photo Editor & Candy Camera & Grid & ScrapBook                     1.0   \n",
       "Coloring book moana                                                2.0   \n",
       "U Launcher Lite – FREE Live Cool Themes, Hide Apps                 1.2   \n",
       "Sketch - Draw & Paint                               Varies with device   \n",
       "Pixel Draw - Number Art Coloring Book                              1.1   \n",
       "\n",
       "                                                   Android Ver  \n",
       "App                                                             \n",
       "Photo Editor & Candy Camera & Grid & ScrapBook             4.0  \n",
       "Coloring book moana                                        4.0  \n",
       "U Launcher Lite – FREE Live Cool Themes, Hide Apps         4.0  \n",
       "Sketch - Draw & Paint                                      4.2  \n",
       "Pixel Draw - Number Art Coloring Book                      4.4  "
      ]
     },
     "execution_count": 76,
     "metadata": {},
     "output_type": "execute_result"
    }
   ],
   "source": [
    "data.head()"
   ]
  },
  {
   "cell_type": "markdown",
   "metadata": {},
   "source": [
    "#### SPLITTING FEATURES-TARGET"
   ]
  },
  {
   "cell_type": "code",
   "execution_count": 77,
   "metadata": {},
   "outputs": [],
   "source": [
    "#type_dummy = {'Free': 1, 'Paid': 0}\n",
    "#data['Type'].replace(type_dummy, inplace=True)\n",
    "#Not necessary"
   ]
  },
  {
   "cell_type": "code",
   "execution_count": 79,
   "metadata": {},
   "outputs": [],
   "source": [
    "y = data['Type']\n",
    "X = data.drop(['Type','Price'],axis=1)# Price is not logical to be present because it inherit the significance magnitude of the Type"
   ]
  },
  {
   "cell_type": "code",
   "execution_count": 80,
   "metadata": {},
   "outputs": [],
   "source": [
    "#print('The scikit-learn version is {}.'.format(sklearn.__version__))\n",
    "\n",
    "#from sklearn.compose import ColumnTransformer\n",
    "#from sklearn.datasets import fetch_openml\n",
    "#from sklearn.pipeline import Pipeline\n",
    "#from sklearn.impute import SimpleImputer\n",
    "from sklearn.preprocessing import StandardScaler, OneHotEncoder, MinMaxScaler\n",
    "from sklearn.linear_model import LogisticRegression\n",
    "from sklearn.model_selection import train_test_split, GridSearchCV\n",
    "\n",
    "np.random.seed(0)"
   ]
  },
  {
   "cell_type": "code",
   "execution_count": 81,
   "metadata": {},
   "outputs": [
    {
     "data": {
      "text/plain": [
       "(Index(['Category', 'Content Rating', 'Genres', 'Current Ver', 'Android Ver'], dtype='object'),\n",
       " Index(['Rating', 'Reviews', 'Size', 'Installs', 'Last Updated'], dtype='object'))"
      ]
     },
     "execution_count": 81,
     "metadata": {},
     "output_type": "execute_result"
    }
   ],
   "source": [
    "# determine categorical and numerical features\n",
    "numeric_features = X.select_dtypes(include=['int64', 'float64','int32']).columns\n",
    "categorical_features = X.select_dtypes(include=['object']).columns\n",
    "categorical_features,numeric_features"
   ]
  },
  {
   "cell_type": "code",
   "execution_count": 82,
   "metadata": {
    "scrolled": true
   },
   "outputs": [
    {
     "name": "stdout",
     "output_type": "stream",
     "text": [
      "<class 'pandas.core.frame.DataFrame'>\n",
      "Index: 9644 entries, Photo Editor & Candy Camera & Grid & ScrapBook to iHoroscope - 2018 Daily Horoscope & Astrology\n",
      "Data columns (total 10 columns):\n",
      "Category          9644 non-null category\n",
      "Rating            9644 non-null float64\n",
      "Reviews           9644 non-null int32\n",
      "Size              9644 non-null float64\n",
      "Installs          9644 non-null float64\n",
      "Content Rating    9644 non-null category\n",
      "Genres            9644 non-null category\n",
      "Last Updated      9644 non-null int32\n",
      "Current Ver       9644 non-null category\n",
      "Android Ver       9644 non-null category\n",
      "dtypes: category(5), float64(3), int32(2)\n",
      "memory usage: 454.0+ KB\n"
     ]
    }
   ],
   "source": [
    "X[categorical_features]= df[categorical_features].astype('category')\n",
    "X.info()"
   ]
  },
  {
   "cell_type": "code",
   "execution_count": 83,
   "metadata": {},
   "outputs": [
    {
     "name": "stdout",
     "output_type": "stream",
     "text": [
      "(9644, 10)\n",
      "(9644, 484)\n"
     ]
    }
   ],
   "source": [
    "#Preprocessing whith scaler and get dummies\n",
    "scaler = MinMaxScaler(feature_range=(0, 1))\n",
    "X[numeric_features] = scaler.fit_transform(X[numeric_features])\n",
    "print(X.shape)\n",
    "X_dum = pd.get_dummies(X[categorical_features], drop_first = True, dummy_na = True)\n",
    "X.drop(X[categorical_features], axis=1,inplace=True)#dropping categorical to next concat the dummies \n",
    "X_final = pd.concat([X,X_dum],axis=1)\n",
    "print(X_final.shape)"
   ]
  },
  {
   "cell_type": "code",
   "execution_count": 84,
   "metadata": {},
   "outputs": [],
   "source": [
    "# import preprocessing from sklearn for a more interesting way to one hot that get_dummies (more conectivity in pipelines)\n",
    "\n",
    "#from sklearn import preprocessing\n",
    "\n",
    "#X_categ_process = pd.DataFrame()\n",
    "\n",
    "#for n, i in enumerate(categorical_features):\n",
    "    #le = preprocessing.LabelEncoder()\n",
    "   # x = pd.Series(le.fit_transform(X[i]))\n",
    "    #X_categ_process.append(x,ignore_index=True)\n",
    "    #X_categ_process[i]=x\n",
    "\n",
    "#onehot = OneHotEncoder()\n",
    "#X_onehot_df = pd.DataFrame(onehot.fit_transform(X_categ_process).toarray())    "
   ]
  },
  {
   "cell_type": "markdown",
   "metadata": {},
   "source": [
    "**IMBALANCE DATA**: the target feature \"Type\" is unbalanced. This means that many of the observations have a free charge of the APP. If we try to create a model without take care of this we will asume that with the output of Free charge we will have the best acuracy. We can see here the problem. The model will not recognize to charge the APP because we don´t have enough samples. \n",
    "\n",
    "We are going to use diverse technichs to balance the data and get the best model of it"
   ]
  },
  {
   "cell_type": "markdown",
   "metadata": {},
   "source": [
    "**METHOD 1: WITHOUT BALANCE**"
   ]
  },
  {
   "cell_type": "markdown",
   "metadata": {},
   "source": [
    "\n",
    "In a binary model that seeks to predict whether we set a price or not, based on certain characteristics of our APP, we will consider the real classes p (ositive = the APP must have a price) and n (egative = the APP must be free), and the classes predicted by the model, N (o, is free) or Y (es, is subject to pricing).\n",
    "In this way, the confusion matrix for this model has its rows labeled with the real classes, and its columns, with those predicted by the model."
   ]
  },
  {
   "cell_type": "code",
   "execution_count": 85,
   "metadata": {},
   "outputs": [],
   "source": [
    "from sklearn.metrics import confusion_matrix\n",
    "from sklearn.metrics import classification_report\n",
    "from sklearn.model_selection import train_test_split\n",
    "from sklearn.linear_model import LogisticRegression\n",
    "from sklearn.decomposition import PCA\n",
    "from sklearn.tree import DecisionTreeClassifier\n",
    " \n",
    "from pylab import rcParams\n",
    " \n",
    "from imblearn.under_sampling import NearMiss\n",
    "from imblearn.over_sampling import RandomOverSampler\n",
    "from imblearn.combine import SMOTETomek\n",
    "from imblearn.ensemble import BalancedBaggingClassifier\n",
    " \n",
    "#from collections import Counter"
   ]
  },
  {
   "cell_type": "code",
   "execution_count": 86,
   "metadata": {},
   "outputs": [],
   "source": [
    "#split train and test \n",
    "X_train, X_test, y_train, y_test = train_test_split(X_final, y, train_size=0.7)"
   ]
  },
  {
   "cell_type": "code",
   "execution_count": 87,
   "metadata": {},
   "outputs": [],
   "source": [
    "#we create a function that make the model we use each time\n",
    "def run_model(X_train, X_test, y_train, y_test):\n",
    "    clf_base = LogisticRegression(C=1.0,penalty='l2',random_state=1,solver=\"newton-cg\")\n",
    "    clf_base.fit(X_train, y_train)\n",
    "    return clf_base"
   ]
  },
  {
   "cell_type": "code",
   "execution_count": 88,
   "metadata": {},
   "outputs": [],
   "source": [
    "#running the model\n",
    "model = run_model(X_train, X_test, y_train, y_test)"
   ]
  },
  {
   "cell_type": "code",
   "execution_count": 89,
   "metadata": {},
   "outputs": [],
   "source": [
    "# We create a function that show our classification results\n",
    "def mostrar_resultados(y_test, y_pred):\n",
    "    conf_matrix = confusion_matrix(y_test, y_pred)\n",
    "    plt.figure(figsize=(5, 5))\n",
    "    sns.heatmap(conf_matrix, annot=True, fmt=\"d\");\n",
    "    plt.title(\"Confusion matrix\")\n",
    "    plt.ylabel('True class')\n",
    "    plt.xlabel('Predicted class')\n",
    "    plt.show()\n",
    "    print (classification_report(y_test, y_pred))"
   ]
  },
  {
   "cell_type": "code",
   "execution_count": 90,
   "metadata": {
    "scrolled": true
   },
   "outputs": [
    {
     "data": {
      "image/png": "[encoded data removed]",
      "text/plain": [
       "<Figure size 360x360 with 2 Axes>"
      ]
     },
     "metadata": {},
     "output_type": "display_data"
    },
    {
     "name": "stdout",
     "output_type": "stream",
     "text": [
      "              precision    recall  f1-score   support\n",
      "\n",
      "        Free       0.92      1.00      0.96      2660\n",
      "        Paid       0.54      0.06      0.11       234\n",
      "\n",
      "    accuracy                           0.92      2894\n",
      "   macro avg       0.73      0.53      0.53      2894\n",
      "weighted avg       0.89      0.92      0.89      2894\n",
      "\n"
     ]
    }
   ],
   "source": [
    "y_pred = model.predict(X_test)\n",
    "mostrar_resultados(y_test, y_pred)"
   ]
  },
  {
   "cell_type": "markdown",
   "metadata": {},
   "source": [
    "\n",
    "The main diagonal contains the sum of all correct predictions. The other diagonal reflects classifier errors:  “false positives” (says that it is Paid Type, but in reality it is not), or “false negatives” (says that it is Free Type, but is actually paid)."
   ]
  },
  {
   "cell_type": "markdown",
   "metadata": {},
   "source": [
    "On the one hand we have only 12 false positives, which the model tell us are priced but are really free. These are very few compared to 2,648 hits (true negatives). But this does not really help us because it is very easy to predict that an APP is free  when in the imbalanced data the vast majority of APPs are free\n",
    "In class 2 (it is what we are interested in detecting) we see 220 failures and 14 hits giving a recall of 0.06. It is the value/metric that we want to improve. We have predicted 220 as a free APP when it is really paid (false negatives) and 14 correctly predicted (true negatives). The ratio can already be seen with the naked eye that it is very bad. It is also interesting to note that in the f1-score column we obtain better results but it should not really deceive us ... they are reflecting a partial reality. The truth is that our model is not capable to detect correctly the cases in which we must set a price to the APP."
   ]
  },
  {
   "cell_type": "markdown",
   "metadata": {},
   "source": [
    "**METHOD 2. BALANCE IN PARAMETER OF THE LOGISTIC REGRESSION**"
   ]
  },
  {
   "cell_type": "markdown",
   "metadata": {},
   "source": [
    "Strategy: We will use an additional parameter in the Logistic Regression model where we indicate weight = «balanced» and with this the algorithm will be in charge of balancing the minority class during training. Let's see:"
   ]
  },
  {
   "cell_type": "code",
   "execution_count": 91,
   "metadata": {},
   "outputs": [],
   "source": [
    "def run_model_balanced(X_train, X_test, y_train, y_test):\n",
    "    clf = LogisticRegression(C=1.0,penalty='l2',random_state=1,solver=\"newton-cg\",class_weight=\"balanced\")\n",
    "    clf.fit(X_train, y_train)\n",
    "    return clf"
   ]
  },
  {
   "cell_type": "code",
   "execution_count": 92,
   "metadata": {},
   "outputs": [
    {
     "data": {
      "image/png": "[encoded data removed]",
      "text/plain": [
       "<Figure size 360x360 with 2 Axes>"
      ]
     },
     "metadata": {},
     "output_type": "display_data"
    },
    {
     "name": "stdout",
     "output_type": "stream",
     "text": [
      "              precision    recall  f1-score   support\n",
      "\n",
      "        Free       0.96      0.75      0.84      2660\n",
      "        Paid       0.19      0.66      0.29       234\n",
      "\n",
      "    accuracy                           0.75      2894\n",
      "   macro avg       0.58      0.71      0.57      2894\n",
      "weighted avg       0.90      0.75      0.80      2894\n",
      "\n"
     ]
    }
   ],
   "source": [
    "model = run_model_balanced(X_train, X_test, y_train, y_test)\n",
    "y_pred = model.predict(X_test)\n",
    "mostrar_resultados(y_test, y_pred)"
   ]
  },
  {
   "cell_type": "markdown",
   "metadata": {},
   "source": [
    "We see an improvement more than important respect to the Recall type II metric, that interests us. Now we hit 154 APPs that are paid type, but we still fail at 80. The f1-score of the positives (\"Free\") indicates that we have worsened the forecasts with respect to the previous model. But, what really we prefer?, to keep our APP free of charge when we could be taking out monetary yield or to adjust the model more to hit the positive forecasts? Obviously the latter"
   ]
  },
  {
   "cell_type": "markdown",
   "metadata": {},
   "source": []
  },
  {
   "cell_type": "markdown",
   "metadata": {},
   "source": [
    "**METHOD 3 :SUBSAMPLING MAJORITY CLASS**\n",
    "\n",
    "What we are going to do is to use an algorithym that reduce the majority class. That algorithym act similar to K-nearest neighbour and select what observations are removed. We could see how well we have improve the model with this technich."
   ]
  },
  {
   "cell_type": "code",
   "execution_count": 93,
   "metadata": {},
   "outputs": [
    {
     "name": "stdout",
     "output_type": "stream",
     "text": [
      "Distribution before resampling Counter({'Free': 6238, 'Paid': 512})\n",
      "Distribution after resampling Counter({'Free': 512, 'Paid': 512})\n"
     ]
    }
   ],
   "source": [
    "us = NearMiss(n_neighbors=3, version=2)\n",
    "X_train_res, y_train_res = us.fit_sample(X_train, y_train)\n",
    " \n",
    "print (\"Distribution before resampling {}\".format(Counter(y_train)))\n",
    "print (\"Distribution after resampling {}\".format(Counter(y_train_res)))"
   ]
  },
  {
   "cell_type": "code",
   "execution_count": 94,
   "metadata": {},
   "outputs": [
    {
     "data": {
      "image/png": "[encoded data removed]",
      "text/plain": [
       "<Figure size 360x360 with 2 Axes>"
      ]
     },
     "metadata": {},
     "output_type": "display_data"
    },
    {
     "name": "stdout",
     "output_type": "stream",
     "text": [
      "              precision    recall  f1-score   support\n",
      "\n",
      "        Free       0.95      0.33      0.48      2660\n",
      "        Paid       0.09      0.79      0.17       234\n",
      "\n",
      "    accuracy                           0.36      2894\n",
      "   macro avg       0.52      0.56      0.33      2894\n",
      "weighted avg       0.88      0.36      0.46      2894\n",
      "\n"
     ]
    }
   ],
   "source": [
    "model = run_model(X_train_res, X_test, y_train_res, y_test)\n",
    "y_pred = model.predict(X_test)\n",
    "mostrar_resultados(y_test, y_pred)"
   ]
  },
  {
   "cell_type": "markdown",
   "metadata": {},
   "source": [
    "Indeed we see that we obtain a good output with a recall of 0.79, but this better recall perform at cost of a high false positive increment. For that reason this  model don´t seem to be well adjusted"
   ]
  },
  {
   "cell_type": "markdown",
   "metadata": {},
   "source": [
    "**METHOD 4: Oversampling of minority class**\n",
    "\n",
    "In this case, we are creatig new synthethic samples of minority class using RandomOverSampler"
   ]
  },
  {
   "cell_type": "code",
   "execution_count": 95,
   "metadata": {},
   "outputs": [
    {
     "name": "stdout",
     "output_type": "stream",
     "text": [
      "Distribution before resampling Counter({'Free': 6238, 'Paid': 512})\n",
      "Distribution labels after resampling Counter({'Free': 6238, 'Paid': 6238})\n"
     ]
    }
   ],
   "source": [
    "os =  RandomOverSampler()\n",
    "X_train_res, y_train_res = os.fit_sample(X_train, y_train)\n",
    " \n",
    "print (\"Distribution before resampling {}\".format(Counter(y_train)))\n",
    "print (\"Distribution labels after resampling {}\".format(Counter(y_train_res)))"
   ]
  },
  {
   "cell_type": "code",
   "execution_count": 96,
   "metadata": {},
   "outputs": [
    {
     "data": {
      "image/png": "[encoded data removed]",
      "text/plain": [
       "<Figure size 360x360 with 2 Axes>"
      ]
     },
     "metadata": {},
     "output_type": "display_data"
    },
    {
     "name": "stdout",
     "output_type": "stream",
     "text": [
      "              precision    recall  f1-score   support\n",
      "\n",
      "        Free       0.96      0.76      0.85      2660\n",
      "        Paid       0.19      0.67      0.30       234\n",
      "\n",
      "    accuracy                           0.75      2894\n",
      "   macro avg       0.58      0.71      0.57      2894\n",
      "weighted avg       0.90      0.75      0.80      2894\n",
      "\n"
     ]
    }
   ],
   "source": [
    "model = run_model(X_train_res, X_test, y_train_res, y_test)\n",
    "y_pred = model.predict(X_test)\n",
    "mostrar_resultados(y_test, y_pred)"
   ]
  },
  {
   "cell_type": "markdown",
   "metadata": {},
   "source": [
    "We have a 0.67 recall for the class 2 and the false positives ahve not increase so much. That´st right"
   ]
  },
  {
   "cell_type": "markdown",
   "metadata": {},
   "source": [
    "**METHOD 5: COMBINING RESAMPLE WITH SMOTE-TOMEK**\n",
    "\n",
    "Now we are using a common technic that consists in using simultaneusly a subsampling algorithym  and other of oversampling at the same time. We use Smote for oversampling. It search for near neighbours and agregate points «in straight line» between them. And we use Tomek for undersampling, that remove those of different class that are near neighboours and let´s see better the decision boundary (the border area of our classes) "
   ]
  },
  {
   "cell_type": "code",
   "execution_count": 97,
   "metadata": {},
   "outputs": [
    {
     "name": "stdout",
     "output_type": "stream",
     "text": [
      "Distribution before resampling Counter({'Free': 6238, 'Paid': 512})\n",
      "Distribution after resampling Counter({'Free': 6186, 'Paid': 3067})\n"
     ]
    }
   ],
   "source": [
    "os_us = SMOTETomek(sampling_strategy=0.5)\n",
    "X_train_res, y_train_res = os_us.fit_sample(X_train, y_train)\n",
    " \n",
    "print (\"Distribution before resampling {}\".format(Counter(y_train)))\n",
    "print (\"Distribution after resampling {}\".format(Counter(y_train_res)))\n",
    " "
   ]
  },
  {
   "cell_type": "code",
   "execution_count": 98,
   "metadata": {},
   "outputs": [
    {
     "data": {
      "image/png": "[encoded data removed]",
      "text/plain": [
       "<Figure size 360x360 with 2 Axes>"
      ]
     },
     "metadata": {},
     "output_type": "display_data"
    },
    {
     "name": "stdout",
     "output_type": "stream",
     "text": [
      "              precision    recall  f1-score   support\n",
      "\n",
      "        Free       0.93      0.96      0.95      2660\n",
      "        Paid       0.31      0.19      0.24       234\n",
      "\n",
      "    accuracy                           0.90      2894\n",
      "   macro avg       0.62      0.58      0.59      2894\n",
      "weighted avg       0.88      0.90      0.89      2894\n",
      "\n"
     ]
    }
   ],
   "source": [
    "model = run_model(X_train_res, X_test, y_train_res, y_test)\n",
    "y_pred = model.predict(X_test)\n",
    "mostrar_resultados(y_test, y_pred)"
   ]
  },
  {
   "cell_type": "markdown",
   "metadata": {},
   "source": [
    "It gives us a very low recall and not suitable for our objective"
   ]
  },
  {
   "cell_type": "markdown",
   "metadata": {},
   "source": [
    "**METHOD 6:  Balancing Models Assembly**\n",
    "\n",
    "For this strategy we will use an Ensamble Classifier that uses Bagging and the model will be a DecisionTree. Let's see how it behaves:"
   ]
  },
  {
   "cell_type": "code",
   "execution_count": 99,
   "metadata": {},
   "outputs": [],
   "source": [
    "bbc = BalancedBaggingClassifier(base_estimator=DecisionTreeClassifier(),\n",
    "                                sampling_strategy='auto',\n",
    "                                replacement=False,\n",
    "                                random_state=0)"
   ]
  },
  {
   "cell_type": "code",
   "execution_count": 100,
   "metadata": {},
   "outputs": [
    {
     "data": {
      "image/png": "[encoded data removed]",
      "text/plain": [
       "<Figure size 360x360 with 2 Axes>"
      ]
     },
     "metadata": {},
     "output_type": "display_data"
    },
    {
     "name": "stdout",
     "output_type": "stream",
     "text": [
      "              precision    recall  f1-score   support\n",
      "\n",
      "        Free       0.97      0.85      0.90      2660\n",
      "        Paid       0.28      0.68      0.40       234\n",
      "\n",
      "    accuracy                           0.84      2894\n",
      "   macro avg       0.63      0.76      0.65      2894\n",
      "weighted avg       0.91      0.84      0.86      2894\n",
      "\n"
     ]
    }
   ],
   "source": [
    "#Train the classifier.\n",
    "bbc.fit(X_train, y_train)\n",
    "y_pred = bbc.predict(X_test)\n",
    "mostrar_resultados(y_test, y_pred)"
   ]
  },
  {
   "cell_type": "markdown",
   "metadata": {},
   "source": [
    "We see an important improvement regarding the Recall metric of type II that interests us, without for this we have lowered the type I error considerably. Now we hit 159 APPs that are paid, but we continue to fail at 75."
   ]
  },
  {
   "cell_type": "markdown",
   "metadata": {},
   "source": [
    "**CONCLUSION**"
   ]
  },
  {
   "cell_type": "markdown",
   "metadata": {},
   "source": [
    "** Despite the fact that this model has a somewhat lower recall than the Subsampling model 3, we prefer it because it tolerates not so many mistakes in the negatives (APP Free that are predicted as paid) **\n",
    "\n",
    "With this we could pass the features of our APP to obtain the prediction of whether to set a price"
   ]
  },
  {
   "cell_type": "code",
   "execution_count": 101,
   "metadata": {
    "collapsed": true
   },
   "outputs": [
    {
     "data": {
      "text/plain": [
       "App\n",
       "I am Rich Person                                    Paid\n",
       "pretty Easy privacy p≡p                             Paid\n",
       "Advanced EX for KIA                                 Paid\n",
       "MC.Fitting                                          Paid\n",
       "DL Image Manager                                    Paid\n",
       "Z PIVOT                                             Paid\n",
       "RAM Cleanup Ad-Free Option                          Paid\n",
       "NewTek NDI                                          Paid\n",
       "AG Subway Simulator Mobile                          Paid\n",
       "Dr. Panda Art Class                                 Paid\n",
       "DRAGON QUEST III                                    Paid\n",
       "Android P Style Icon Pack                           Paid\n",
       "Interactive NPC DM Tool                             Paid\n",
       "Absolute RC Heli Simulator                          Paid\n",
       "Star Wars ™: DIRTY                                  Paid\n",
       "Ai-Ball AV Recorder                                 Paid\n",
       "DW Contacts widget                                  Paid\n",
       "Camera FV-5                                         Paid\n",
       "Dr. Seuss's ABC                                     Paid\n",
       "Real Sheet ∞: Pathfinder + DT                       Paid\n",
       "db Meter - sound level meter with data logging      Paid\n",
       "FlashLight HD LED Pro                               Paid\n",
       "E.G. Chess                                          Paid\n",
       "InfantRisk Center HCP                               Paid\n",
       "Pain Tracker & Diary                                Paid\n",
       "Bo's Dinnertime Story                               Paid\n",
       "Portable Wi-Fi hotspot Premium                      Paid\n",
       "DG Surveyor                                         Paid\n",
       "Depths of Betrayal CE (Full)                        Paid\n",
       "Maps & GPS Navigation OsmAnd+                       Paid\n",
       "                                                    ... \n",
       "G-Force Driving Assistant                           Paid\n",
       "Skip-Bo™                                            Paid\n",
       "Business Calendar Pro                               Paid\n",
       "Servidor Privado CR y CoC - Royale Servers PRO      Paid\n",
       "Watch Face BW Inter                                 Paid\n",
       "DRAGON QUEST                                        Paid\n",
       "Jurassic Life: T Rex Simulator                      Paid\n",
       "17th Edition Cable Sizer                            Paid\n",
       "ReDNAKET DB Normalization Tool                      Paid\n",
       "PTA Content Master                                  Paid\n",
       "X Back - Icon Pack                                  Paid\n",
       "Paris ci la Sortie du Métro                         Paid\n",
       "EG Classroom Decimals™                              Paid\n",
       "EP McGuffey Primer                                  Paid\n",
       "Sago Mini Babies                                    Paid\n",
       "BI Barcode Scanner                                  Paid\n",
       "💎 I'm rich                                          Paid\n",
       "DS Helpdesk Plus                                    Paid\n",
       "Officiel du SCRABBLE LAROUSSE                       Paid\n",
       "X Home Bar - Home Bar Gesture Pro                   Paid\n",
       "R-TYPE II                                           Paid\n",
       "CZ-27 pistol explained                              Paid\n",
       "Medical ID - In Case of Emergency (ICE)             Paid\n",
       "DX Glow - Clock Widget                              Paid\n",
       "EU RCD Guide                                        Paid\n",
       "Poker Equity Calculator Pro for No Limit Hold'em    Paid\n",
       "iFish BC                                            Paid\n",
       "Ad Removal: thereisonlywe                           Paid\n",
       "Radiological Anatomy For FRCR1                      Paid\n",
       "Ay Yıldız - Xperia Live Theme                       Paid\n",
       "Name: Type, Length: 234, dtype: object"
      ]
     },
     "execution_count": 101,
     "metadata": {},
     "output_type": "execute_result"
    }
   ],
   "source": [
    "y_test[y_test==\"Paid\"] # we choose an APP of the test data to make sure we didn´t train with it\n",
    "# It would be the App \"Clue\""
   ]
  },
  {
   "cell_type": "code",
   "execution_count": 102,
   "metadata": {},
   "outputs": [],
   "source": [
    "#Our App\n",
    "app_x=pd.DataFrame(X_final.loc[\"Clue\"]).T"
   ]
  },
  {
   "cell_type": "code",
   "execution_count": 103,
   "metadata": {},
   "outputs": [
    {
     "data": {
      "text/plain": [
       "array(['Paid'], dtype=object)"
      ]
     },
     "execution_count": 103,
     "metadata": {},
     "output_type": "execute_result"
    }
   ],
   "source": [
    "APP_pred = bbc.predict(app_x)\n",
    "APP_pred # The output is \"Paid\" Type. We have predict a difficult clasification due to the imbalance data"
   ]
  },
  {
   "cell_type": "markdown",
   "metadata": {},
   "source": [
    "## **PRICE PREDICTION**\n",
    "\n",
    "In this phase we want to set our App price\n",
    "\n",
    "We are going to create a Pipeline and compare two different regresion algorithyms. We will choose the one with the best metric\n"
   ]
  },
  {
   "cell_type": "code",
   "execution_count": 104,
   "metadata": {},
   "outputs": [
    {
     "data": {
      "text/plain": [
       "('the feature has 0 nan values',\n",
       " 'the feature has 0 null values',\n",
       " 'the feature has the type of float64',\n",
       " 0.00    8898\n",
       " 0.99     145\n",
       " 2.99     123\n",
       " 1.99      72\n",
       " 4.99      70\n",
       " 3.99      56\n",
       " 1.49      45\n",
       " 5.99      26\n",
       " 2.49      25\n",
       " 9.99      19\n",
       " Name: Price, dtype: int64)"
      ]
     },
     "execution_count": 104,
     "metadata": {},
     "output_type": "execute_result"
    }
   ],
   "source": [
    "fastview(data.Price)"
   ]
  },
  {
   "cell_type": "code",
   "execution_count": 105,
   "metadata": {},
   "outputs": [],
   "source": [
    "data_pricing = data[data.Price!=0.00]"
   ]
  },
  {
   "cell_type": "code",
   "execution_count": 106,
   "metadata": {
    "scrolled": true
   },
   "outputs": [
    {
     "data": {
      "text/html": [
       "<div>\n",
       "<style scoped>\n",
       "    .dataframe tbody tr th:only-of-type {\n",
       "        vertical-align: middle;\n",
       "    }\n",
       "\n",
       "    .dataframe tbody tr th {\n",
       "        vertical-align: top;\n",
       "    }\n",
       "\n",
       "    .dataframe thead th {\n",
       "        text-align: right;\n",
       "    }\n",
       "</style>\n",
       "<table border=\"1\" class=\"dataframe\">\n",
       "  <thead>\n",
       "    <tr style=\"text-align: right;\">\n",
       "      <th></th>\n",
       "      <th>Category</th>\n",
       "      <th>Rating</th>\n",
       "      <th>Reviews</th>\n",
       "      <th>Size</th>\n",
       "      <th>Installs</th>\n",
       "      <th>Type</th>\n",
       "      <th>Price</th>\n",
       "      <th>Content Rating</th>\n",
       "      <th>Genres</th>\n",
       "      <th>Last Updated</th>\n",
       "      <th>Current Ver</th>\n",
       "      <th>Android Ver</th>\n",
       "    </tr>\n",
       "    <tr>\n",
       "      <th>App</th>\n",
       "      <th></th>\n",
       "      <th></th>\n",
       "      <th></th>\n",
       "      <th></th>\n",
       "      <th></th>\n",
       "      <th></th>\n",
       "      <th></th>\n",
       "      <th></th>\n",
       "      <th></th>\n",
       "      <th></th>\n",
       "      <th></th>\n",
       "      <th></th>\n",
       "    </tr>\n",
       "  </thead>\n",
       "  <tbody>\n",
       "    <tr>\n",
       "      <th>TurboScan: scan documents and receipts in PDF</th>\n",
       "      <td>BUSINESS</td>\n",
       "      <td>4.7</td>\n",
       "      <td>11442</td>\n",
       "      <td>6.800000e+06</td>\n",
       "      <td>100000.0</td>\n",
       "      <td>Paid</td>\n",
       "      <td>4.99</td>\n",
       "      <td>Everyone</td>\n",
       "      <td>Business</td>\n",
       "      <td>740</td>\n",
       "      <td>1.5</td>\n",
       "      <td>4.0</td>\n",
       "    </tr>\n",
       "    <tr>\n",
       "      <th>Tiny Scanner Pro: PDF Doc Scan</th>\n",
       "      <td>BUSINESS</td>\n",
       "      <td>4.8</td>\n",
       "      <td>10295</td>\n",
       "      <td>3.900000e+07</td>\n",
       "      <td>100000.0</td>\n",
       "      <td>Paid</td>\n",
       "      <td>4.99</td>\n",
       "      <td>Everyone</td>\n",
       "      <td>Business</td>\n",
       "      <td>1088</td>\n",
       "      <td>3.4</td>\n",
       "      <td>3.0</td>\n",
       "    </tr>\n",
       "    <tr>\n",
       "      <th>Puffin Browser Pro</th>\n",
       "      <td>COMMUNICATION</td>\n",
       "      <td>4.0</td>\n",
       "      <td>18247</td>\n",
       "      <td>2.116677e+07</td>\n",
       "      <td>100000.0</td>\n",
       "      <td>Paid</td>\n",
       "      <td>3.99</td>\n",
       "      <td>Everyone</td>\n",
       "      <td>Communication</td>\n",
       "      <td>638</td>\n",
       "      <td>7.5</td>\n",
       "      <td>4.1</td>\n",
       "    </tr>\n",
       "    <tr>\n",
       "      <th>Moco+ - Chat, Meet People</th>\n",
       "      <td>DATING</td>\n",
       "      <td>4.2</td>\n",
       "      <td>1545</td>\n",
       "      <td>2.116677e+07</td>\n",
       "      <td>10000.0</td>\n",
       "      <td>Paid</td>\n",
       "      <td>3.99</td>\n",
       "      <td>Mature 17+</td>\n",
       "      <td>Dating</td>\n",
       "      <td>654</td>\n",
       "      <td>2.6</td>\n",
       "      <td>4.1</td>\n",
       "    </tr>\n",
       "    <tr>\n",
       "      <th>Calculator</th>\n",
       "      <td>DATING</td>\n",
       "      <td>2.6</td>\n",
       "      <td>57</td>\n",
       "      <td>6.200000e+06</td>\n",
       "      <td>1000.0</td>\n",
       "      <td>Paid</td>\n",
       "      <td>6.99</td>\n",
       "      <td>Everyone</td>\n",
       "      <td>Dating</td>\n",
       "      <td>891</td>\n",
       "      <td>1.1</td>\n",
       "      <td>4.0</td>\n",
       "    </tr>\n",
       "  </tbody>\n",
       "</table>\n",
       "</div>"
      ],
      "text/plain": [
       "                                                    Category  Rating  Reviews  \\\n",
       "App                                                                             \n",
       "TurboScan: scan documents and receipts in PDF       BUSINESS     4.7    11442   \n",
       "Tiny Scanner Pro: PDF Doc Scan                      BUSINESS     4.8    10295   \n",
       "Puffin Browser Pro                             COMMUNICATION     4.0    18247   \n",
       "Moco+ - Chat, Meet People                             DATING     4.2     1545   \n",
       "Calculator                                            DATING     2.6       57   \n",
       "\n",
       "                                                       Size  Installs  Type  \\\n",
       "App                                                                           \n",
       "TurboScan: scan documents and receipts in PDF  6.800000e+06  100000.0  Paid   \n",
       "Tiny Scanner Pro: PDF Doc Scan                 3.900000e+07  100000.0  Paid   \n",
       "Puffin Browser Pro                             2.116677e+07  100000.0  Paid   \n",
       "Moco+ - Chat, Meet People                      2.116677e+07   10000.0  Paid   \n",
       "Calculator                                     6.200000e+06    1000.0  Paid   \n",
       "\n",
       "                                               Price Content Rating  \\\n",
       "App                                                                   \n",
       "TurboScan: scan documents and receipts in PDF   4.99       Everyone   \n",
       "Tiny Scanner Pro: PDF Doc Scan                  4.99       Everyone   \n",
       "Puffin Browser Pro                              3.99       Everyone   \n",
       "Moco+ - Chat, Meet People                       3.99     Mature 17+   \n",
       "Calculator                                      6.99       Everyone   \n",
       "\n",
       "                                                      Genres  Last Updated  \\\n",
       "App                                                                          \n",
       "TurboScan: scan documents and receipts in PDF       Business           740   \n",
       "Tiny Scanner Pro: PDF Doc Scan                      Business          1088   \n",
       "Puffin Browser Pro                             Communication           638   \n",
       "Moco+ - Chat, Meet People                             Dating           654   \n",
       "Calculator                                            Dating           891   \n",
       "\n",
       "                                              Current Ver Android Ver  \n",
       "App                                                                    \n",
       "TurboScan: scan documents and receipts in PDF         1.5         4.0  \n",
       "Tiny Scanner Pro: PDF Doc Scan                        3.4         3.0  \n",
       "Puffin Browser Pro                                    7.5         4.1  \n",
       "Moco+ - Chat, Meet People                             2.6         4.1  \n",
       "Calculator                                            1.1         4.0  "
      ]
     },
     "execution_count": 106,
     "metadata": {},
     "output_type": "execute_result"
    }
   ],
   "source": [
    "data_pricing.head()"
   ]
  },
  {
   "cell_type": "code",
   "execution_count": 107,
   "metadata": {},
   "outputs": [
    {
     "data": {
      "text/plain": [
       "<matplotlib.axes._subplots.AxesSubplot at 0x241a3297160>"
      ]
     },
     "execution_count": 107,
     "metadata": {},
     "output_type": "execute_result"
    },
    {
     "data": {
      "image/png": "[encoded data removed]",
      "text/plain": [
       "<Figure size 432x288 with 1 Axes>"
      ]
     },
     "metadata": {},
     "output_type": "display_data"
    }
   ],
   "source": [
    "#outliers in my target that we want to remove. It involves APP for rich people\n",
    "sns.boxplot(x=data_pricing['Price'])"
   ]
  },
  {
   "cell_type": "code",
   "execution_count": 108,
   "metadata": {},
   "outputs": [],
   "source": [
    "data_pricing = data_pricing[ data_pricing['Price']<200]"
   ]
  },
  {
   "cell_type": "code",
   "execution_count": 109,
   "metadata": {},
   "outputs": [],
   "source": [
    "y = data_pricing['Price']\n",
    "X = data_pricing.drop(['Price','Type'],axis=1)# Type is correlated to Price"
   ]
  },
  {
   "cell_type": "code",
   "execution_count": 110,
   "metadata": {},
   "outputs": [
    {
     "name": "stdout",
     "output_type": "stream",
     "text": [
      "<class 'pandas.core.frame.DataFrame'>\n",
      "Index: 731 entries, TurboScan: scan documents and receipts in PDF to Word Search Tab 1 FR\n",
      "Data columns (total 10 columns):\n",
      "Category          731 non-null category\n",
      "Rating            731 non-null float64\n",
      "Reviews           731 non-null int32\n",
      "Size              731 non-null float64\n",
      "Installs          731 non-null float64\n",
      "Content Rating    731 non-null category\n",
      "Genres            731 non-null category\n",
      "Last Updated      731 non-null int32\n",
      "Current Ver       731 non-null category\n",
      "Android Ver       731 non-null category\n",
      "dtypes: category(5), float64(3), int32(2)\n",
      "memory usage: 53.6+ KB\n"
     ]
    },
    {
     "data": {
      "text/plain": [
       "(Index(['Category', 'Content Rating', 'Genres', 'Current Ver', 'Android Ver'], dtype='object'),\n",
       " Index(['Rating', 'Reviews', 'Size', 'Installs', 'Last Updated'], dtype='object'))"
      ]
     },
     "execution_count": 110,
     "metadata": {},
     "output_type": "execute_result"
    }
   ],
   "source": [
    "# split categorical and numerical features\n",
    "numeric_features = X.select_dtypes(include=['int64', 'float64','int32']).columns\n",
    "categorical_features = X.select_dtypes(include=['object']).columns\n",
    "X[categorical_features]= df[categorical_features].astype('category')\n",
    "X.info()\n",
    "categorical_features,numeric_features"
   ]
  },
  {
   "cell_type": "code",
   "execution_count": 111,
   "metadata": {},
   "outputs": [
    {
     "data": {
      "text/plain": [
       "(731, 484)"
      ]
     },
     "execution_count": 111,
     "metadata": {},
     "output_type": "execute_result"
    }
   ],
   "source": [
    "X_dum = pd.get_dummies(X[categorical_features], drop_first = True, dummy_na = True)\n",
    "X.drop(X[categorical_features], axis=1,inplace=True)\n",
    "X_final = pd.concat([X,X_dum],axis=1)\n",
    "X_final.shape"
   ]
  },
  {
   "cell_type": "code",
   "execution_count": 112,
   "metadata": {},
   "outputs": [
    {
     "data": {
      "text/html": [
       "<div>\n",
       "<style scoped>\n",
       "    .dataframe tbody tr th:only-of-type {\n",
       "        vertical-align: middle;\n",
       "    }\n",
       "\n",
       "    .dataframe tbody tr th {\n",
       "        vertical-align: top;\n",
       "    }\n",
       "\n",
       "    .dataframe thead th {\n",
       "        text-align: right;\n",
       "    }\n",
       "</style>\n",
       "<table border=\"1\" class=\"dataframe\">\n",
       "  <thead>\n",
       "    <tr style=\"text-align: right;\">\n",
       "      <th></th>\n",
       "      <th>Rating</th>\n",
       "      <th>Reviews</th>\n",
       "      <th>Size</th>\n",
       "      <th>Installs</th>\n",
       "      <th>Last Updated</th>\n",
       "      <th>Category_AUTO_AND_VEHICLES</th>\n",
       "      <th>Category_BEAUTY</th>\n",
       "      <th>Category_BOOKS_AND_REFERENCE</th>\n",
       "      <th>Category_BUSINESS</th>\n",
       "      <th>Category_COMICS</th>\n",
       "      <th>...</th>\n",
       "      <th>Android Ver_4.3</th>\n",
       "      <th>Android Ver_4.4</th>\n",
       "      <th>Android Ver_5.0</th>\n",
       "      <th>Android Ver_5.1</th>\n",
       "      <th>Android Ver_6.0</th>\n",
       "      <th>Android Ver_7.0</th>\n",
       "      <th>Android Ver_7.1</th>\n",
       "      <th>Android Ver_8.0</th>\n",
       "      <th>Android Ver_Varies with device</th>\n",
       "      <th>Android Ver_nan</th>\n",
       "    </tr>\n",
       "    <tr>\n",
       "      <th>App</th>\n",
       "      <th></th>\n",
       "      <th></th>\n",
       "      <th></th>\n",
       "      <th></th>\n",
       "      <th></th>\n",
       "      <th></th>\n",
       "      <th></th>\n",
       "      <th></th>\n",
       "      <th></th>\n",
       "      <th></th>\n",
       "      <th></th>\n",
       "      <th></th>\n",
       "      <th></th>\n",
       "      <th></th>\n",
       "      <th></th>\n",
       "      <th></th>\n",
       "      <th></th>\n",
       "      <th></th>\n",
       "      <th></th>\n",
       "      <th></th>\n",
       "      <th></th>\n",
       "    </tr>\n",
       "  </thead>\n",
       "  <tbody>\n",
       "    <tr>\n",
       "      <th>TurboScan: scan documents and receipts in PDF</th>\n",
       "      <td>4.7</td>\n",
       "      <td>11442</td>\n",
       "      <td>6.800000e+06</td>\n",
       "      <td>100000.0</td>\n",
       "      <td>740</td>\n",
       "      <td>0</td>\n",
       "      <td>0</td>\n",
       "      <td>0</td>\n",
       "      <td>1</td>\n",
       "      <td>0</td>\n",
       "      <td>...</td>\n",
       "      <td>0</td>\n",
       "      <td>0</td>\n",
       "      <td>0</td>\n",
       "      <td>0</td>\n",
       "      <td>0</td>\n",
       "      <td>0</td>\n",
       "      <td>0</td>\n",
       "      <td>0</td>\n",
       "      <td>0</td>\n",
       "      <td>0</td>\n",
       "    </tr>\n",
       "    <tr>\n",
       "      <th>Tiny Scanner Pro: PDF Doc Scan</th>\n",
       "      <td>4.8</td>\n",
       "      <td>10295</td>\n",
       "      <td>3.900000e+07</td>\n",
       "      <td>100000.0</td>\n",
       "      <td>1088</td>\n",
       "      <td>0</td>\n",
       "      <td>0</td>\n",
       "      <td>0</td>\n",
       "      <td>1</td>\n",
       "      <td>0</td>\n",
       "      <td>...</td>\n",
       "      <td>0</td>\n",
       "      <td>0</td>\n",
       "      <td>0</td>\n",
       "      <td>0</td>\n",
       "      <td>0</td>\n",
       "      <td>0</td>\n",
       "      <td>0</td>\n",
       "      <td>0</td>\n",
       "      <td>0</td>\n",
       "      <td>0</td>\n",
       "    </tr>\n",
       "    <tr>\n",
       "      <th>Puffin Browser Pro</th>\n",
       "      <td>4.0</td>\n",
       "      <td>18247</td>\n",
       "      <td>2.116677e+07</td>\n",
       "      <td>100000.0</td>\n",
       "      <td>638</td>\n",
       "      <td>0</td>\n",
       "      <td>0</td>\n",
       "      <td>0</td>\n",
       "      <td>0</td>\n",
       "      <td>0</td>\n",
       "      <td>...</td>\n",
       "      <td>0</td>\n",
       "      <td>0</td>\n",
       "      <td>0</td>\n",
       "      <td>0</td>\n",
       "      <td>0</td>\n",
       "      <td>0</td>\n",
       "      <td>0</td>\n",
       "      <td>0</td>\n",
       "      <td>0</td>\n",
       "      <td>0</td>\n",
       "    </tr>\n",
       "    <tr>\n",
       "      <th>Moco+ - Chat, Meet People</th>\n",
       "      <td>4.2</td>\n",
       "      <td>1545</td>\n",
       "      <td>2.116677e+07</td>\n",
       "      <td>10000.0</td>\n",
       "      <td>654</td>\n",
       "      <td>0</td>\n",
       "      <td>0</td>\n",
       "      <td>0</td>\n",
       "      <td>0</td>\n",
       "      <td>0</td>\n",
       "      <td>...</td>\n",
       "      <td>0</td>\n",
       "      <td>0</td>\n",
       "      <td>0</td>\n",
       "      <td>0</td>\n",
       "      <td>0</td>\n",
       "      <td>0</td>\n",
       "      <td>0</td>\n",
       "      <td>0</td>\n",
       "      <td>0</td>\n",
       "      <td>0</td>\n",
       "    </tr>\n",
       "    <tr>\n",
       "      <th>Calculator</th>\n",
       "      <td>2.6</td>\n",
       "      <td>57</td>\n",
       "      <td>6.200000e+06</td>\n",
       "      <td>1000.0</td>\n",
       "      <td>891</td>\n",
       "      <td>0</td>\n",
       "      <td>0</td>\n",
       "      <td>0</td>\n",
       "      <td>0</td>\n",
       "      <td>0</td>\n",
       "      <td>...</td>\n",
       "      <td>0</td>\n",
       "      <td>0</td>\n",
       "      <td>0</td>\n",
       "      <td>0</td>\n",
       "      <td>0</td>\n",
       "      <td>0</td>\n",
       "      <td>0</td>\n",
       "      <td>0</td>\n",
       "      <td>0</td>\n",
       "      <td>0</td>\n",
       "    </tr>\n",
       "  </tbody>\n",
       "</table>\n",
       "<p>5 rows × 484 columns</p>\n",
       "</div>"
      ],
      "text/plain": [
       "                                               Rating  Reviews          Size  \\\n",
       "App                                                                            \n",
       "TurboScan: scan documents and receipts in PDF     4.7    11442  6.800000e+06   \n",
       "Tiny Scanner Pro: PDF Doc Scan                    4.8    10295  3.900000e+07   \n",
       "Puffin Browser Pro                                4.0    18247  2.116677e+07   \n",
       "Moco+ - Chat, Meet People                         4.2     1545  2.116677e+07   \n",
       "Calculator                                        2.6       57  6.200000e+06   \n",
       "\n",
       "                                               Installs  Last Updated  \\\n",
       "App                                                                     \n",
       "TurboScan: scan documents and receipts in PDF  100000.0           740   \n",
       "Tiny Scanner Pro: PDF Doc Scan                 100000.0          1088   \n",
       "Puffin Browser Pro                             100000.0           638   \n",
       "Moco+ - Chat, Meet People                       10000.0           654   \n",
       "Calculator                                       1000.0           891   \n",
       "\n",
       "                                               Category_AUTO_AND_VEHICLES  \\\n",
       "App                                                                         \n",
       "TurboScan: scan documents and receipts in PDF                           0   \n",
       "Tiny Scanner Pro: PDF Doc Scan                                          0   \n",
       "Puffin Browser Pro                                                      0   \n",
       "Moco+ - Chat, Meet People                                               0   \n",
       "Calculator                                                              0   \n",
       "\n",
       "                                               Category_BEAUTY  \\\n",
       "App                                                              \n",
       "TurboScan: scan documents and receipts in PDF                0   \n",
       "Tiny Scanner Pro: PDF Doc Scan                               0   \n",
       "Puffin Browser Pro                                           0   \n",
       "Moco+ - Chat, Meet People                                    0   \n",
       "Calculator                                                   0   \n",
       "\n",
       "                                               Category_BOOKS_AND_REFERENCE  \\\n",
       "App                                                                           \n",
       "TurboScan: scan documents and receipts in PDF                             0   \n",
       "Tiny Scanner Pro: PDF Doc Scan                                            0   \n",
       "Puffin Browser Pro                                                        0   \n",
       "Moco+ - Chat, Meet People                                                 0   \n",
       "Calculator                                                                0   \n",
       "\n",
       "                                               Category_BUSINESS  \\\n",
       "App                                                                \n",
       "TurboScan: scan documents and receipts in PDF                  1   \n",
       "Tiny Scanner Pro: PDF Doc Scan                                 1   \n",
       "Puffin Browser Pro                                             0   \n",
       "Moco+ - Chat, Meet People                                      0   \n",
       "Calculator                                                     0   \n",
       "\n",
       "                                               Category_COMICS  \\\n",
       "App                                                              \n",
       "TurboScan: scan documents and receipts in PDF                0   \n",
       "Tiny Scanner Pro: PDF Doc Scan                               0   \n",
       "Puffin Browser Pro                                           0   \n",
       "Moco+ - Chat, Meet People                                    0   \n",
       "Calculator                                                   0   \n",
       "\n",
       "                                                    ...         \\\n",
       "App                                                 ...          \n",
       "TurboScan: scan documents and receipts in PDF       ...          \n",
       "Tiny Scanner Pro: PDF Doc Scan                      ...          \n",
       "Puffin Browser Pro                                  ...          \n",
       "Moco+ - Chat, Meet People                           ...          \n",
       "Calculator                                          ...          \n",
       "\n",
       "                                               Android Ver_4.3  \\\n",
       "App                                                              \n",
       "TurboScan: scan documents and receipts in PDF                0   \n",
       "Tiny Scanner Pro: PDF Doc Scan                               0   \n",
       "Puffin Browser Pro                                           0   \n",
       "Moco+ - Chat, Meet People                                    0   \n",
       "Calculator                                                   0   \n",
       "\n",
       "                                               Android Ver_4.4  \\\n",
       "App                                                              \n",
       "TurboScan: scan documents and receipts in PDF                0   \n",
       "Tiny Scanner Pro: PDF Doc Scan                               0   \n",
       "Puffin Browser Pro                                           0   \n",
       "Moco+ - Chat, Meet People                                    0   \n",
       "Calculator                                                   0   \n",
       "\n",
       "                                               Android Ver_5.0  \\\n",
       "App                                                              \n",
       "TurboScan: scan documents and receipts in PDF                0   \n",
       "Tiny Scanner Pro: PDF Doc Scan                               0   \n",
       "Puffin Browser Pro                                           0   \n",
       "Moco+ - Chat, Meet People                                    0   \n",
       "Calculator                                                   0   \n",
       "\n",
       "                                               Android Ver_5.1  \\\n",
       "App                                                              \n",
       "TurboScan: scan documents and receipts in PDF                0   \n",
       "Tiny Scanner Pro: PDF Doc Scan                               0   \n",
       "Puffin Browser Pro                                           0   \n",
       "Moco+ - Chat, Meet People                                    0   \n",
       "Calculator                                                   0   \n",
       "\n",
       "                                               Android Ver_6.0  \\\n",
       "App                                                              \n",
       "TurboScan: scan documents and receipts in PDF                0   \n",
       "Tiny Scanner Pro: PDF Doc Scan                               0   \n",
       "Puffin Browser Pro                                           0   \n",
       "Moco+ - Chat, Meet People                                    0   \n",
       "Calculator                                                   0   \n",
       "\n",
       "                                               Android Ver_7.0  \\\n",
       "App                                                              \n",
       "TurboScan: scan documents and receipts in PDF                0   \n",
       "Tiny Scanner Pro: PDF Doc Scan                               0   \n",
       "Puffin Browser Pro                                           0   \n",
       "Moco+ - Chat, Meet People                                    0   \n",
       "Calculator                                                   0   \n",
       "\n",
       "                                               Android Ver_7.1  \\\n",
       "App                                                              \n",
       "TurboScan: scan documents and receipts in PDF                0   \n",
       "Tiny Scanner Pro: PDF Doc Scan                               0   \n",
       "Puffin Browser Pro                                           0   \n",
       "Moco+ - Chat, Meet People                                    0   \n",
       "Calculator                                                   0   \n",
       "\n",
       "                                               Android Ver_8.0  \\\n",
       "App                                                              \n",
       "TurboScan: scan documents and receipts in PDF                0   \n",
       "Tiny Scanner Pro: PDF Doc Scan                               0   \n",
       "Puffin Browser Pro                                           0   \n",
       "Moco+ - Chat, Meet People                                    0   \n",
       "Calculator                                                   0   \n",
       "\n",
       "                                               Android Ver_Varies with device  \\\n",
       "App                                                                             \n",
       "TurboScan: scan documents and receipts in PDF                               0   \n",
       "Tiny Scanner Pro: PDF Doc Scan                                              0   \n",
       "Puffin Browser Pro                                                          0   \n",
       "Moco+ - Chat, Meet People                                                   0   \n",
       "Calculator                                                                  0   \n",
       "\n",
       "                                               Android Ver_nan  \n",
       "App                                                             \n",
       "TurboScan: scan documents and receipts in PDF                0  \n",
       "Tiny Scanner Pro: PDF Doc Scan                               0  \n",
       "Puffin Browser Pro                                           0  \n",
       "Moco+ - Chat, Meet People                                    0  \n",
       "Calculator                                                   0  \n",
       "\n",
       "[5 rows x 484 columns]"
      ]
     },
     "execution_count": 112,
     "metadata": {},
     "output_type": "execute_result"
    }
   ],
   "source": [
    "X = X_final.copy()\n",
    "X.head()"
   ]
  },
  {
   "cell_type": "code",
   "execution_count": 115,
   "metadata": {},
   "outputs": [],
   "source": [
    "from sklearn.model_selection import train_test_split\n",
    "from sklearn.preprocessing import StandardScaler\n",
    "from sklearn.decomposition import PCA\n",
    "from sklearn.pipeline import Pipeline\n",
    "from sklearn.externals import joblib\n",
    "from sklearn.linear_model import LinearRegression\n",
    "from sklearn import tree"
   ]
  },
  {
   "cell_type": "code",
   "execution_count": 116,
   "metadata": {},
   "outputs": [
    {
     "name": "stdout",
     "output_type": "stream",
     "text": [
      "LinearRegression pipeline test accuracy: -0.002\n",
      "Decision Tree pipeline test accuracy: -0.189\n",
      "Classifier with best accuracy: LinearRegression\n"
     ]
    }
   ],
   "source": [
    "X_train, X_test, y_train, y_test = train_test_split(X, y, test_size=0.2, random_state=42)\n",
    "\n",
    "# Construct some pipelines\n",
    "pipe_lr = Pipeline([('scl', StandardScaler()),\n",
    "            ('pca', PCA(n_components=2)),\n",
    "            ('clf', LinearRegression())])\n",
    "\n",
    "pipe_dt = Pipeline([('scl', StandardScaler()),\n",
    "            ('pca', PCA(n_components=2)),\n",
    "            ('clf', tree.DecisionTreeRegressor(random_state=42))])\n",
    "\n",
    "# List of pipelines for ease of iteration\n",
    "pipelines = [pipe_lr, pipe_dt]\n",
    "\n",
    "# Dictionary of pipelines and classifier types for ease of reference\n",
    "pipe_dict = {0:  'LinearRegression', 1: 'Decision Tree'}\n",
    "\n",
    "# Fit the pipelines\n",
    "for pipe in pipelines:\n",
    "    pipe.fit(X_train, y_train)\n",
    "\n",
    "# Compare accuracies\n",
    "for idx, val in enumerate(pipelines):\n",
    "    print('%s pipeline test accuracy: %.3f' % (pipe_dict[idx], val.score(X_test, y_test)))\n",
    "\n",
    "# Identify the most accurate model on test data\n",
    "best_acc = 0.0\n",
    "best_clf = 0\n",
    "best_pipe = ''\n",
    "for idx, val in enumerate(pipelines):\n",
    "    if val.score(X_test, y_test) > best_acc:\n",
    "        best_acc = val.score(X_test, y_test)\n",
    "        best_pipe = val\n",
    "        best_clf = idx\n",
    "print('Classifier with best accuracy: %s' % pipe_dict[best_clf])\n",
    "\n",
    "# Save pipeline to file\n",
    "#joblib.dump(best_pipe, 'best_pipeline.pkl', compress=1)\n",
    "#print('Saved %s pipeline to file' % pipe_dict[best_clf])"
   ]
  },
  {
   "cell_type": "code",
   "execution_count": 117,
   "metadata": {},
   "outputs": [
    {
     "data": {
      "text/html": [
       "<div>\n",
       "<style scoped>\n",
       "    .dataframe tbody tr th:only-of-type {\n",
       "        vertical-align: middle;\n",
       "    }\n",
       "\n",
       "    .dataframe tbody tr th {\n",
       "        vertical-align: top;\n",
       "    }\n",
       "\n",
       "    .dataframe thead th {\n",
       "        text-align: right;\n",
       "    }\n",
       "</style>\n",
       "<table border=\"1\" class=\"dataframe\">\n",
       "  <thead>\n",
       "    <tr style=\"text-align: right;\">\n",
       "      <th></th>\n",
       "      <th>y_test</th>\n",
       "      <th>y_predict_dt</th>\n",
       "      <th>error</th>\n",
       "    </tr>\n",
       "    <tr>\n",
       "      <th>App</th>\n",
       "      <th></th>\n",
       "      <th></th>\n",
       "      <th></th>\n",
       "    </tr>\n",
       "  </thead>\n",
       "  <tbody>\n",
       "    <tr>\n",
       "      <th>SCI-FI UI</th>\n",
       "      <td>1.99</td>\n",
       "      <td>0.99</td>\n",
       "      <td>1.00</td>\n",
       "    </tr>\n",
       "    <tr>\n",
       "      <th>Toca Builders</th>\n",
       "      <td>3.99</td>\n",
       "      <td>2.99</td>\n",
       "      <td>1.00</td>\n",
       "    </tr>\n",
       "    <tr>\n",
       "      <th>I am Rich Person</th>\n",
       "      <td>37.99</td>\n",
       "      <td>2.49</td>\n",
       "      <td>35.50</td>\n",
       "    </tr>\n",
       "    <tr>\n",
       "      <th>ch-mm Dict</th>\n",
       "      <td>1.96</td>\n",
       "      <td>3.99</td>\n",
       "      <td>-2.03</td>\n",
       "    </tr>\n",
       "    <tr>\n",
       "      <th>Electrician Calculator Pro</th>\n",
       "      <td>14.99</td>\n",
       "      <td>2.59</td>\n",
       "      <td>12.40</td>\n",
       "    </tr>\n",
       "  </tbody>\n",
       "</table>\n",
       "</div>"
      ],
      "text/plain": [
       "                            y_test  y_predict_dt  error\n",
       "App                                                    \n",
       "SCI-FI UI                     1.99          0.99   1.00\n",
       "Toca Builders                 3.99          2.99   1.00\n",
       "I am Rich Person             37.99          2.49  35.50\n",
       "ch-mm Dict                    1.96          3.99  -2.03\n",
       "Electrician Calculator Pro   14.99          2.59  12.40"
      ]
     },
     "execution_count": 117,
     "metadata": {},
     "output_type": "execute_result"
    }
   ],
   "source": [
    "y_predict_dt = pipe_dt.predict(X_test)\n",
    "result_dt = pd.DataFrame({'y_test':y_test,'y_predict_dt':y_predict_dt,'error':(y_test-y_predict_dt)})\n",
    "result_dt.head()"
   ]
  },
  {
   "cell_type": "markdown",
   "metadata": {},
   "source": [
    "** Using MSE as my metric **"
   ]
  },
  {
   "cell_type": "code",
   "execution_count": 118,
   "metadata": {},
   "outputs": [
    {
     "name": "stdout",
     "output_type": "stream",
     "text": [
      "The Mean Square Error is:  99.33665782312926\n"
     ]
    }
   ],
   "source": [
    "summation = 0  #variable to store the summation of differences\n",
    "n = len(y_test) #finding total number of items in list\n",
    "for i in range (0,n):  #looping through each element of the list\n",
    "      difference = y_test[i] - y_predict_dt[i]  #finding the difference between observed and predicted value\n",
    "      squared_difference = difference**2  #taking square of the differene \n",
    "      summation = summation + squared_difference  #taking a sum of all the differences\n",
    "MSE = summation/n  #dividing summation by total values to obtain average\n",
    "print(\"The Mean Square Error is: \" , MSE)\n",
    "\n",
    "# equal result: mse_dt = sum((result_dt['error'])**2)/len(result_dt)\n",
    "# equal result: mse_dt = mean_squared_error(y_test,y_predict_dt)"
   ]
  },
  {
   "cell_type": "code",
   "execution_count": 119,
   "metadata": {},
   "outputs": [
    {
     "data": {
      "text/html": [
       "<div>\n",
       "<style scoped>\n",
       "    .dataframe tbody tr th:only-of-type {\n",
       "        vertical-align: middle;\n",
       "    }\n",
       "\n",
       "    .dataframe tbody tr th {\n",
       "        vertical-align: top;\n",
       "    }\n",
       "\n",
       "    .dataframe thead th {\n",
       "        text-align: right;\n",
       "    }\n",
       "</style>\n",
       "<table border=\"1\" class=\"dataframe\">\n",
       "  <thead>\n",
       "    <tr style=\"text-align: right;\">\n",
       "      <th></th>\n",
       "      <th>y_test</th>\n",
       "      <th>y_predict_lr</th>\n",
       "      <th>error</th>\n",
       "    </tr>\n",
       "    <tr>\n",
       "      <th>App</th>\n",
       "      <th></th>\n",
       "      <th></th>\n",
       "      <th></th>\n",
       "    </tr>\n",
       "  </thead>\n",
       "  <tbody>\n",
       "    <tr>\n",
       "      <th>SCI-FI UI</th>\n",
       "      <td>1.99</td>\n",
       "      <td>4.449029</td>\n",
       "      <td>-2.459029</td>\n",
       "    </tr>\n",
       "    <tr>\n",
       "      <th>Toca Builders</th>\n",
       "      <td>3.99</td>\n",
       "      <td>4.817861</td>\n",
       "      <td>-0.827861</td>\n",
       "    </tr>\n",
       "    <tr>\n",
       "      <th>I am Rich Person</th>\n",
       "      <td>37.99</td>\n",
       "      <td>4.869597</td>\n",
       "      <td>33.120403</td>\n",
       "    </tr>\n",
       "    <tr>\n",
       "      <th>ch-mm Dict</th>\n",
       "      <td>1.96</td>\n",
       "      <td>3.837907</td>\n",
       "      <td>-1.877907</td>\n",
       "    </tr>\n",
       "    <tr>\n",
       "      <th>Electrician Calculator Pro</th>\n",
       "      <td>14.99</td>\n",
       "      <td>4.645342</td>\n",
       "      <td>10.344658</td>\n",
       "    </tr>\n",
       "  </tbody>\n",
       "</table>\n",
       "</div>"
      ],
      "text/plain": [
       "                            y_test  y_predict_lr      error\n",
       "App                                                        \n",
       "SCI-FI UI                     1.99      4.449029  -2.459029\n",
       "Toca Builders                 3.99      4.817861  -0.827861\n",
       "I am Rich Person             37.99      4.869597  33.120403\n",
       "ch-mm Dict                    1.96      3.837907  -1.877907\n",
       "Electrician Calculator Pro   14.99      4.645342  10.344658"
      ]
     },
     "execution_count": 119,
     "metadata": {},
     "output_type": "execute_result"
    }
   ],
   "source": [
    "y_predict_lr = pipe_lr.predict(X_test)\n",
    "result_lr = pd.DataFrame({'y_test':y_test,'y_predict_lr':y_predict_lr,'error':(y_test-y_predict_lr)})\n",
    "y_predict_lr = pipe_lr.predict(X_test)\n",
    "result_lr.head()"
   ]
  },
  {
   "cell_type": "code",
   "execution_count": 120,
   "metadata": {},
   "outputs": [
    {
     "name": "stdout",
     "output_type": "stream",
     "text": [
      "The Mean Square Error is:  83.762837570194\n"
     ]
    }
   ],
   "source": [
    "summation = 0  #variable to store the summation of differences\n",
    "n = len(y_test) #finding total number of items in list\n",
    "for i in range (0,n):  #looping through each element of the list\n",
    "      difference = y_test[i] - y_predict_lr[i]  #finding the difference between observed and predicted value\n",
    "      squared_difference = difference**2  #taking square of the differene \n",
    "      summation = summation + squared_difference  #taking a sum of all the differences\n",
    "MSE = summation/n  #dividing summation by total values to obtain average\n",
    "print(\"The Mean Square Error is: \" , MSE)\n",
    "\n",
    "# equal result: mse_lr = sum((result_lr['error'])**2)/len(result_lr)\n",
    "# equal result: mse_lr = mean_squared_error(y_test,y_predict_lr)"
   ]
  },
  {
   "cell_type": "markdown",
   "metadata": {},
   "source": [
    "#### CONCLUSION: my best model is the linear regression \n",
    "\n",
    "There are several aspects that I have to keep improving, as to perfection the input data as to avoid leakage data. It has to be done with order. \n",
    "\n",
    "I was trying to one hot encode in the pipeline with unsuccessful result. For that I had to implement get_dummy, that is correct, that have less reproducibility in the practice with new data"
   ]
  },
  {
   "cell_type": "markdown",
   "metadata": {},
   "source": [
    "Good references:\n",
    "    \n",
    "- https://www.aprendemachinelearning.com/clasificacion-con-datos-desbalanceados\n",
    "- https://medium.com/datos-y-ciencia/gesti%C3%B3n-de-flujos-de-trabajo-de-machine-learning-con-pipelines-de-scikit-learn-parte-1-una-8a37fcc7c1d0"
   ]
  }
 ],
 "metadata": {
  "kernelspec": {
   "display_name": "Python 3",
   "language": "python",
   "name": "python3"
  },
  "language_info": {
   "codemirror_mode": {
    "name": "ipython",
    "version": 3
   },
   "file_extension": ".py",
   "mimetype": "text/x-python",
   "name": "python",
   "nbconvert_exporter": "python",
   "pygments_lexer": "ipython3",
   "version": "3.6.8"
  }
 },
 "nbformat": 4,
 "nbformat_minor": 2
}
